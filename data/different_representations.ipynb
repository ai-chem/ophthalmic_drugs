{
  "cells": [
    {
      "cell_type": "code",
      "execution_count": 25,
      "metadata": {
        "colab": {
          "base_uri": "https://localhost:8080/",
          "height": 383
        },
        "id": "QXKQy9hWJ2Dj",
        "outputId": "8c17cdc0-7cf0-4544-d439-ecf1d64b3291"
      },
      "outputs": [],
      "source": [
        "import pandas as pd\n",
        "import numpy as np\n",
        "from rdkit import Chem\n",
        "from rdkit.Chem import rdMolDescriptors, MACCSkeys\n",
        "from sklearn.model_selection import train_test_split\n",
        "from sklearn.pipeline import Pipeline\n",
        "from sklearn.base import BaseEstimator, TransformerMixin\n",
        "from sklearn.preprocessing import StandardScaler\n",
        "from lazypredict.Supervised import LazyRegressor, LazyClassifier\n",
        "from rdkit.Chem import PandasTools, AllChem\n",
        "from rdkit import Chem, DataStructs"
      ]
    },
    {
      "cell_type": "markdown",
      "metadata": {
        "id": "APpgWDEKJ2Dm"
      },
      "source": [
        "### Loading data"
      ]
    },
    {
      "cell_type": "code",
      "execution_count": 31,
      "metadata": {
        "id": "73hYQLFHJ2Do"
      },
      "outputs": [
        {
          "data": {
            "text/html": [
              "<div>\n",
              "<style scoped>\n",
              "    .dataframe tbody tr th:only-of-type {\n",
              "        vertical-align: middle;\n",
              "    }\n",
              "\n",
              "    .dataframe tbody tr th {\n",
              "        vertical-align: top;\n",
              "    }\n",
              "\n",
              "    .dataframe thead th {\n",
              "        text-align: right;\n",
              "    }\n",
              "</style>\n",
              "<table border=\"1\" class=\"dataframe\">\n",
              "  <thead>\n",
              "    <tr style=\"text-align: right;\">\n",
              "      <th></th>\n",
              "      <th>SMILES</th>\n",
              "      <th>Class</th>\n",
              "    </tr>\n",
              "  </thead>\n",
              "  <tbody>\n",
              "    <tr>\n",
              "      <th>0</th>\n",
              "      <td>CC#CC</td>\n",
              "      <td>1</td>\n",
              "    </tr>\n",
              "    <tr>\n",
              "      <th>1</th>\n",
              "      <td>CCC=C</td>\n",
              "      <td>1</td>\n",
              "    </tr>\n",
              "    <tr>\n",
              "      <th>2</th>\n",
              "      <td>O=CC=O</td>\n",
              "      <td>1</td>\n",
              "    </tr>\n",
              "    <tr>\n",
              "      <th>3</th>\n",
              "      <td>CCC=O</td>\n",
              "      <td>1</td>\n",
              "    </tr>\n",
              "    <tr>\n",
              "      <th>4</th>\n",
              "      <td>FCC#N</td>\n",
              "      <td>1</td>\n",
              "    </tr>\n",
              "    <tr>\n",
              "      <th>...</th>\n",
              "      <td>...</td>\n",
              "      <td>...</td>\n",
              "    </tr>\n",
              "    <tr>\n",
              "      <th>5215</th>\n",
              "      <td>CC1OC(CC(O)C1O)OC2C(O)CC(OC3C(O)CC(OC4CCC5(C)C...</td>\n",
              "      <td>0</td>\n",
              "    </tr>\n",
              "    <tr>\n",
              "      <th>5216</th>\n",
              "      <td>CC1OC(CC(O)C1O)OC2C(O)CC(OC3C(O)CC(OC4CCC5(C)C...</td>\n",
              "      <td>0</td>\n",
              "    </tr>\n",
              "    <tr>\n",
              "      <th>5217</th>\n",
              "      <td>CN(C(=O)C)c1c(I)c(NC(=O)C)c(I)c(C(=O)NC(C=O)C(...</td>\n",
              "      <td>0</td>\n",
              "    </tr>\n",
              "    <tr>\n",
              "      <th>5218</th>\n",
              "      <td>CC(=O)N(CC(O)CO)c1c(I)c(C(=O)NCCO)c(I)c(C(=O)N...</td>\n",
              "      <td>0</td>\n",
              "    </tr>\n",
              "    <tr>\n",
              "      <th>5219</th>\n",
              "      <td>COC1C(O)CC(OC2C(O)CC(OC3C(O)CC(OC4CCC5(C)C(CCC...</td>\n",
              "      <td>0</td>\n",
              "    </tr>\n",
              "  </tbody>\n",
              "</table>\n",
              "<p>5220 rows × 2 columns</p>\n",
              "</div>"
            ],
            "text/plain": [
              "                                                 SMILES  Class\n",
              "0                                                 CC#CC      1\n",
              "1                                                 CCC=C      1\n",
              "2                                                O=CC=O      1\n",
              "3                                                 CCC=O      1\n",
              "4                                                 FCC#N      1\n",
              "...                                                 ...    ...\n",
              "5215  CC1OC(CC(O)C1O)OC2C(O)CC(OC3C(O)CC(OC4CCC5(C)C...      0\n",
              "5216  CC1OC(CC(O)C1O)OC2C(O)CC(OC3C(O)CC(OC4CCC5(C)C...      0\n",
              "5217  CN(C(=O)C)c1c(I)c(NC(=O)C)c(I)c(C(=O)NC(C=O)C(...      0\n",
              "5218  CC(=O)N(CC(O)CO)c1c(I)c(C(=O)NCCO)c(I)c(C(=O)N...      0\n",
              "5219  COC1C(O)CC(OC2C(O)CC(OC3C(O)CC(OC4CCC5(C)C(CCC...      0\n",
              "\n",
              "[5220 rows x 2 columns]"
            ]
          },
          "execution_count": 31,
          "metadata": {},
          "output_type": "execute_result"
        }
      ],
      "source": [
        "df = pd.read_csv('irritation.csv')\n",
        "df"
      ]
    },
    {
      "cell_type": "code",
      "execution_count": 32,
      "metadata": {
        "id": "lAryfZW0J2Dp"
      },
      "outputs": [],
      "source": [
        "X_train, X_test, y_train, y_test = train_test_split(df['SMILES'], df['Class'], test_size=0.2, random_state=10)"
      ]
    },
    {
      "cell_type": "markdown",
      "metadata": {
        "id": "2Ft8eUg8J2Dq"
      },
      "source": [
        "### Descriptor generation"
      ]
    },
    {
      "cell_type": "code",
      "execution_count": 33,
      "metadata": {
        "id": "_JJKzLqRJ2Dq"
      },
      "outputs": [],
      "source": [
        "class MolecularDescriptorTransformer(BaseEstimator, TransformerMixin):\n",
        "    def __init__(self, descriptor_type='standard'):\n",
        "        self.descriptor_type = descriptor_type\n",
        "        self.descriptor_names = list(rdMolDescriptors.Properties.GetAvailableProperties())\n",
        "        self.get_descriptors = rdMolDescriptors.Properties(self.descriptor_names)\n",
        "\n",
        "    def smi_to_descriptors(self, smile):\n",
        "        mol = Chem.MolFromSmiles(smile)\n",
        "        if mol:\n",
        "            descriptors = np.array(self.get_descriptors.ComputeProperties(mol))\n",
        "            return descriptors\n",
        "        else:\n",
        "            return np.zeros(len(self.descriptor_names))\n",
        "\n",
        "    def smi_to_MACCS(self, smile):\n",
        "        mol = Chem.MolFromSmiles(smile)\n",
        "        if mol:\n",
        "            maccs = np.array(list(MACCSkeys.GenMACCSKeys(mol).ToBitString())).astype(int)\n",
        "            return maccs\n",
        "        else:\n",
        "            return np.zeros(167)\n",
        "        \n",
        "    def smi_to_Morgan(self, smile):\n",
        "        mol = Chem.MolFromSmiles(smile)\n",
        "        if mol:\n",
        "            fp = AllChem.GetHashedMorganFingerprint(mol, 2, nBits=2048)\n",
        "            ar = np.zeros((1,), dtype=np.int8)\n",
        "            DataStructs.ConvertToNumpyArray(fp, ar)\n",
        "            return ar\n",
        "        else:\n",
        "            return np.zeros(2048)\n",
        "\n",
        "\n",
        "    def fit(self, X, y=None):\n",
        "        return self\n",
        "\n",
        "    def transform(self, X):\n",
        "        if self.descriptor_type == 'standard':\n",
        "            return np.vstack(X.apply(self.smi_to_descriptors))\n",
        "        elif self.descriptor_type == 'MACCS':\n",
        "            return np.vstack(X.apply(self.smi_to_MACCS))\n",
        "        elif self.descriptor_type == 'Morgan':\n",
        "            return np.vstack(X.apply(self.smi_to_Morgan))\n",
        "        else:\n",
        "            raise ValueError(\"Unsupported descriptor type\")\n"
      ]
    },
    {
      "cell_type": "markdown",
      "metadata": {
        "id": "DcIiUj6yJ2Dr"
      },
      "source": [
        "### Pipelines\n"
      ]
    },
    {
      "cell_type": "code",
      "execution_count": 34,
      "metadata": {
        "id": "QbImScWXJ2Dr"
      },
      "outputs": [],
      "source": [
        "descriptor_pipeline = Pipeline([\n",
        "    ('descriptors', MolecularDescriptorTransformer(descriptor_type='standard')),\n",
        "    ('scaler', StandardScaler())\n",
        "])\n",
        "\n",
        "X_train_transformed = descriptor_pipeline.fit_transform(X_train)\n",
        "X_test_transformed = descriptor_pipeline.transform(X_test)"
      ]
    },
    {
      "cell_type": "code",
      "execution_count": 35,
      "metadata": {},
      "outputs": [
        {
          "data": {
            "text/plain": [
              "(4176, 43)"
            ]
          },
          "execution_count": 35,
          "metadata": {},
          "output_type": "execute_result"
        }
      ],
      "source": [
        "X_train_transformed.shape"
      ]
    },
    {
      "cell_type": "code",
      "execution_count": 36,
      "metadata": {
        "id": "TMHScGPMLBs3"
      },
      "outputs": [],
      "source": [
        "maccs_pipeline = Pipeline([\n",
        "    ('MACCS', MolecularDescriptorTransformer(descriptor_type='MACCS')),\n",
        "    ('scaler', StandardScaler())\n",
        "])\n",
        "\n",
        "X_train_maccs = maccs_pipeline.fit_transform(X_train)\n",
        "X_test_maccs = maccs_pipeline.transform(X_test)\n"
      ]
    },
    {
      "cell_type": "code",
      "execution_count": 37,
      "metadata": {},
      "outputs": [],
      "source": [
        "Morgan_pipeline = Pipeline([\n",
        "    ('Morgan', MolecularDescriptorTransformer(descriptor_type='Morgan')),\n",
        "    ('scaler', StandardScaler())\n",
        "])\n",
        "\n",
        "X_train_morgan = maccs_pipeline.fit_transform(X_train)\n",
        "X_test_morgan = maccs_pipeline.transform(X_test)\n"
      ]
    },
    {
      "cell_type": "markdown",
      "metadata": {
        "id": "TLyaFATQJ2Dw"
      },
      "source": [
        "## Training models"
      ]
    },
    {
      "cell_type": "markdown",
      "metadata": {
        "id": "IxUUgrFoQYPI"
      },
      "source": [
        "### RDKit descriptors"
      ]
    },
    {
      "cell_type": "code",
      "execution_count": 38,
      "metadata": {
        "colab": {
          "base_uri": "https://localhost:8080/"
        },
        "id": "KOZRVxruJ2Dx",
        "outputId": "0d11780e-0239-447c-ab09-f71d09bc63cb"
      },
      "outputs": [
        {
          "name": "stderr",
          "output_type": "stream",
          "text": [
            "100%|██████████| 29/29 [00:08<00:00,  3.29it/s]"
          ]
        },
        {
          "name": "stdout",
          "output_type": "stream",
          "text": [
            "[LightGBM] [Info] Number of positive: 3105, number of negative: 1071\n",
            "[LightGBM] [Info] Auto-choosing col-wise multi-threading, the overhead of testing was 0.000566 seconds.\n",
            "You can set `force_col_wise=true` to remove the overhead.\n",
            "[LightGBM] [Info] Total Bins 5882\n",
            "[LightGBM] [Info] Number of data points in the train set: 4176, number of used features: 43\n",
            "[LightGBM] [Info] [binary:BoostFromScore]: pavg=0.743534 -> initscore=1.064421\n",
            "[LightGBM] [Info] Start training from score 1.064421\n",
            "Results for standard descriptors:\n",
            "                               Accuracy  Balanced Accuracy  ROC AUC  F1 Score  \\\n",
            "Model                                                                           \n",
            "LGBMClassifier                     0.94               0.92     0.92      0.94   \n",
            "XGBClassifier                      0.94               0.91     0.91      0.94   \n",
            "BaggingClassifier                  0.94               0.91     0.91      0.94   \n",
            "SGDClassifier                      0.93               0.91     0.91      0.93   \n",
            "SVC                                0.94               0.91     0.91      0.94   \n",
            "ExtraTreesClassifier               0.93               0.91     0.91      0.93   \n",
            "KNeighborsClassifier               0.94               0.90     0.90      0.94   \n",
            "RandomForestClassifier             0.94               0.90     0.90      0.93   \n",
            "AdaBoostClassifier                 0.93               0.89     0.89      0.93   \n",
            "LabelPropagation                   0.92               0.89     0.89      0.92   \n",
            "LabelSpreading                     0.92               0.89     0.89      0.92   \n",
            "LinearSVC                          0.93               0.88     0.88      0.92   \n",
            "LogisticRegression                 0.92               0.88     0.88      0.92   \n",
            "BernoulliNB                        0.88               0.88     0.88      0.88   \n",
            "CalibratedClassifierCV             0.92               0.88     0.88      0.92   \n",
            "GaussianNB                         0.90               0.87     0.87      0.90   \n",
            "DecisionTreeClassifier             0.90               0.87     0.87      0.90   \n",
            "QuadraticDiscriminantAnalysis      0.85               0.86     0.86      0.86   \n",
            "NearestCentroid                    0.90               0.86     0.86      0.90   \n",
            "Perceptron                         0.90               0.86     0.86      0.90   \n",
            "LinearDiscriminantAnalysis         0.91               0.85     0.85      0.91   \n",
            "ExtraTreeClassifier                0.89               0.85     0.85      0.89   \n",
            "NuSVC                              0.89               0.84     0.84      0.89   \n",
            "RidgeClassifier                    0.91               0.84     0.84      0.90   \n",
            "RidgeClassifierCV                  0.91               0.84     0.84      0.90   \n",
            "PassiveAggressiveClassifier        0.84               0.83     0.83      0.85   \n",
            "DummyClassifier                    0.74               0.50     0.50      0.62   \n",
            "\n",
            "                               Time Taken  \n",
            "Model                                      \n",
            "LGBMClassifier                       0.10  \n",
            "XGBClassifier                        0.13  \n",
            "BaggingClassifier                    1.49  \n",
            "SGDClassifier                        0.03  \n",
            "SVC                                  0.24  \n",
            "ExtraTreesClassifier                 0.44  \n",
            "KNeighborsClassifier                 0.03  \n",
            "RandomForestClassifier               2.09  \n",
            "AdaBoostClassifier                   1.09  \n",
            "LabelPropagation                     0.71  \n",
            "LabelSpreading                       0.86  \n",
            "LinearSVC                            0.24  \n",
            "LogisticRegression                   0.06  \n",
            "BernoulliNB                          0.02  \n",
            "CalibratedClassifierCV               0.25  \n",
            "GaussianNB                           0.01  \n",
            "DecisionTreeClassifier               0.21  \n",
            "QuadraticDiscriminantAnalysis        0.03  \n",
            "NearestCentroid                      0.03  \n",
            "Perceptron                           0.02  \n",
            "LinearDiscriminantAnalysis           0.04  \n",
            "ExtraTreeClassifier                  0.01  \n",
            "NuSVC                                0.59  \n",
            "RidgeClassifier                      0.02  \n",
            "RidgeClassifierCV                    0.03  \n",
            "PassiveAggressiveClassifier          0.02  \n",
            "DummyClassifier                      0.02  \n"
          ]
        },
        {
          "name": "stderr",
          "output_type": "stream",
          "text": [
            "\n"
          ]
        }
      ],
      "source": [
        "reg = LazyClassifier(verbose=0, ignore_warnings=True, custom_metric=None, random_state=10)\n",
        "models, predictions = reg.fit(X_train_transformed, X_test_transformed, y_train, y_test)\n",
        "print(\"Results for standard descriptors:\")\n",
        "print(models)"
      ]
    },
    {
      "cell_type": "markdown",
      "metadata": {
        "id": "GhKiaq5SJ2Dv"
      },
      "source": [
        "### MACCS fingerprints"
      ]
    },
    {
      "cell_type": "code",
      "execution_count": 39,
      "metadata": {
        "colab": {
          "base_uri": "https://localhost:8080/"
        },
        "id": "yqrP2a5CJ2Dy",
        "outputId": "7af06979-ae05-42e7-ba4b-b0f878bf1427"
      },
      "outputs": [
        {
          "name": "stderr",
          "output_type": "stream",
          "text": [
            "  0%|          | 0/29 [00:00<?, ?it/s]"
          ]
        },
        {
          "name": "stderr",
          "output_type": "stream",
          "text": [
            "100%|██████████| 29/29 [00:07<00:00,  3.67it/s]"
          ]
        },
        {
          "name": "stdout",
          "output_type": "stream",
          "text": [
            "[LightGBM] [Info] Number of positive: 3105, number of negative: 1071\n",
            "[LightGBM] [Info] Auto-choosing row-wise multi-threading, the overhead of testing was 0.003887 seconds.\n",
            "You can set `force_row_wise=true` to remove the overhead.\n",
            "And if memory is not enough, you can set `force_col_wise=true`.\n",
            "[LightGBM] [Info] Total Bins 444\n",
            "[LightGBM] [Info] Number of data points in the train set: 4176, number of used features: 148\n",
            "[LightGBM] [Info] [binary:BoostFromScore]: pavg=0.743534 -> initscore=1.064421\n",
            "[LightGBM] [Info] Start training from score 1.064421\n",
            "Results for MACCS descriptors:\n",
            "                               Accuracy  Balanced Accuracy  ROC AUC  F1 Score  \\\n",
            "Model                                                                           \n",
            "LGBMClassifier                     0.95               0.93     0.93      0.95   \n",
            "ExtraTreesClassifier               0.95               0.92     0.92      0.95   \n",
            "XGBClassifier                      0.95               0.92     0.92      0.94   \n",
            "RandomForestClassifier             0.95               0.92     0.92      0.95   \n",
            "SVC                                0.94               0.91     0.91      0.94   \n",
            "BaggingClassifier                  0.93               0.91     0.91      0.93   \n",
            "LogisticRegression                 0.93               0.90     0.90      0.93   \n",
            "SGDClassifier                      0.92               0.89     0.89      0.92   \n",
            "AdaBoostClassifier                 0.93               0.89     0.89      0.92   \n",
            "LinearSVC                          0.92               0.89     0.89      0.92   \n",
            "LinearDiscriminantAnalysis         0.93               0.89     0.89      0.93   \n",
            "CalibratedClassifierCV             0.93               0.89     0.89      0.92   \n",
            "LabelSpreading                     0.86               0.89     0.89      0.86   \n",
            "LabelPropagation                   0.86               0.89     0.89      0.86   \n",
            "PassiveAggressiveClassifier        0.92               0.89     0.89      0.92   \n",
            "RidgeClassifier                    0.93               0.88     0.88      0.93   \n",
            "RidgeClassifierCV                  0.93               0.88     0.88      0.93   \n",
            "NearestCentroid                    0.91               0.88     0.88      0.91   \n",
            "BernoulliNB                        0.90               0.88     0.88      0.90   \n",
            "DecisionTreeClassifier             0.91               0.88     0.88      0.91   \n",
            "Perceptron                         0.91               0.87     0.87      0.90   \n",
            "GaussianNB                         0.82               0.86     0.86      0.83   \n",
            "ExtraTreeClassifier                0.89               0.85     0.85      0.89   \n",
            "KNeighborsClassifier               0.91               0.85     0.85      0.91   \n",
            "NuSVC                              0.90               0.84     0.84      0.90   \n",
            "QuadraticDiscriminantAnalysis      0.41               0.59     0.59      0.37   \n",
            "DummyClassifier                    0.74               0.50     0.50      0.62   \n",
            "\n",
            "                               Time Taken  \n",
            "Model                                      \n",
            "LGBMClassifier                       0.13  \n",
            "ExtraTreesClassifier                 0.60  \n",
            "XGBClassifier                        0.14  \n",
            "RandomForestClassifier               0.58  \n",
            "SVC                                  0.43  \n",
            "BaggingClassifier                    0.36  \n",
            "LogisticRegression                   0.09  \n",
            "SGDClassifier                        0.07  \n",
            "AdaBoostClassifier                   0.44  \n",
            "LinearSVC                            0.63  \n",
            "LinearDiscriminantAnalysis           0.15  \n",
            "CalibratedClassifierCV               0.80  \n",
            "LabelSpreading                       1.00  \n",
            "LabelPropagation                     0.81  \n",
            "PassiveAggressiveClassifier          0.06  \n",
            "RidgeClassifier                      0.04  \n",
            "RidgeClassifierCV                    0.13  \n",
            "NearestCentroid                      0.03  \n",
            "BernoulliNB                          0.04  \n",
            "DecisionTreeClassifier               0.07  \n",
            "Perceptron                           0.05  \n",
            "GaussianNB                           0.04  \n",
            "ExtraTreeClassifier                  0.03  \n",
            "KNeighborsClassifier                 0.05  \n",
            "NuSVC                                0.88  \n",
            "QuadraticDiscriminantAnalysis        0.19  \n",
            "DummyClassifier                      0.02  \n"
          ]
        },
        {
          "name": "stderr",
          "output_type": "stream",
          "text": [
            "\n"
          ]
        }
      ],
      "source": [
        "reg_maccs = LazyClassifier(verbose=0, ignore_warnings=True, custom_metric=None, random_state=10)\n",
        "models_maccs, predictions_maccs = reg_maccs.fit(X_train_maccs, X_test_maccs, y_train, y_test)\n",
        "print(\"Results for MACCS descriptors:\")\n",
        "print(models_maccs)"
      ]
    },
    {
      "cell_type": "markdown",
      "metadata": {},
      "source": [
        "### Morgan fingerprints(2048)"
      ]
    },
    {
      "cell_type": "code",
      "execution_count": 40,
      "metadata": {},
      "outputs": [
        {
          "name": "stderr",
          "output_type": "stream",
          "text": [
            "100%|██████████| 29/29 [00:07<00:00,  3.64it/s]"
          ]
        },
        {
          "name": "stdout",
          "output_type": "stream",
          "text": [
            "[LightGBM] [Info] Number of positive: 3105, number of negative: 1071\n",
            "[LightGBM] [Info] Auto-choosing row-wise multi-threading, the overhead of testing was 0.001299 seconds.\n",
            "You can set `force_row_wise=true` to remove the overhead.\n",
            "And if memory is not enough, you can set `force_col_wise=true`.\n",
            "[LightGBM] [Info] Total Bins 444\n",
            "[LightGBM] [Info] Number of data points in the train set: 4176, number of used features: 148\n",
            "[LightGBM] [Info] [binary:BoostFromScore]: pavg=0.743534 -> initscore=1.064421\n",
            "[LightGBM] [Info] Start training from score 1.064421\n",
            "Results for MACCS descriptors:\n",
            "                               Accuracy  Balanced Accuracy  ROC AUC  F1 Score  \\\n",
            "Model                                                                           \n",
            "LGBMClassifier                     0.95               0.93     0.93      0.95   \n",
            "ExtraTreesClassifier               0.95               0.92     0.92      0.95   \n",
            "XGBClassifier                      0.95               0.92     0.92      0.94   \n",
            "RandomForestClassifier             0.95               0.92     0.92      0.95   \n",
            "SVC                                0.94               0.91     0.91      0.94   \n",
            "BaggingClassifier                  0.93               0.91     0.91      0.93   \n",
            "LogisticRegression                 0.93               0.90     0.90      0.93   \n",
            "SGDClassifier                      0.92               0.89     0.89      0.92   \n",
            "AdaBoostClassifier                 0.93               0.89     0.89      0.92   \n",
            "LinearSVC                          0.92               0.89     0.89      0.92   \n",
            "LinearDiscriminantAnalysis         0.93               0.89     0.89      0.93   \n",
            "CalibratedClassifierCV             0.93               0.89     0.89      0.92   \n",
            "LabelSpreading                     0.86               0.89     0.89      0.86   \n",
            "LabelPropagation                   0.86               0.89     0.89      0.86   \n",
            "PassiveAggressiveClassifier        0.92               0.89     0.89      0.92   \n",
            "RidgeClassifier                    0.93               0.88     0.88      0.93   \n",
            "RidgeClassifierCV                  0.93               0.88     0.88      0.93   \n",
            "NearestCentroid                    0.91               0.88     0.88      0.91   \n",
            "BernoulliNB                        0.90               0.88     0.88      0.90   \n",
            "DecisionTreeClassifier             0.91               0.88     0.88      0.91   \n",
            "Perceptron                         0.91               0.87     0.87      0.90   \n",
            "GaussianNB                         0.82               0.86     0.86      0.83   \n",
            "ExtraTreeClassifier                0.89               0.85     0.85      0.89   \n",
            "KNeighborsClassifier               0.91               0.85     0.85      0.91   \n",
            "NuSVC                              0.90               0.84     0.84      0.90   \n",
            "QuadraticDiscriminantAnalysis      0.41               0.59     0.59      0.37   \n",
            "DummyClassifier                    0.74               0.50     0.50      0.62   \n",
            "\n",
            "                               Time Taken  \n",
            "Model                                      \n",
            "LGBMClassifier                       0.11  \n",
            "ExtraTreesClassifier                 0.67  \n",
            "XGBClassifier                        0.13  \n",
            "RandomForestClassifier               0.51  \n",
            "SVC                                  0.44  \n",
            "BaggingClassifier                    0.37  \n",
            "LogisticRegression                   0.10  \n",
            "SGDClassifier                        0.07  \n",
            "AdaBoostClassifier                   0.43  \n",
            "LinearSVC                            0.69  \n",
            "LinearDiscriminantAnalysis           0.16  \n",
            "CalibratedClassifierCV               0.87  \n",
            "LabelSpreading                       0.98  \n",
            "LabelPropagation                     0.80  \n",
            "PassiveAggressiveClassifier          0.05  \n",
            "RidgeClassifier                      0.05  \n",
            "RidgeClassifierCV                    0.12  \n",
            "NearestCentroid                      0.04  \n",
            "BernoulliNB                          0.04  \n",
            "DecisionTreeClassifier               0.08  \n",
            "Perceptron                           0.06  \n",
            "GaussianNB                           0.04  \n",
            "ExtraTreeClassifier                  0.03  \n",
            "KNeighborsClassifier                 0.04  \n",
            "NuSVC                                0.85  \n",
            "QuadraticDiscriminantAnalysis        0.18  \n",
            "DummyClassifier                      0.03  \n"
          ]
        },
        {
          "name": "stderr",
          "output_type": "stream",
          "text": [
            "\n"
          ]
        }
      ],
      "source": [
        "reg_morgan = LazyClassifier(verbose=0, ignore_warnings=True, custom_metric=None, random_state=10)\n",
        "models_morgan, predictions_morgan = reg_morgan.fit(X_train_morgan, X_test_morgan, y_train, y_test)\n",
        "print(\"Results for MACCS descriptors:\")\n",
        "print(models_morgan)"
      ]
    }
  ],
  "metadata": {
    "colab": {
      "provenance": [],
      "toc_visible": true
    },
    "kernelspec": {
      "display_name": "Python 3 (ipykernel)",
      "language": "python",
      "name": "python3"
    },
    "language_info": {
      "codemirror_mode": {
        "name": "ipython",
        "version": 3
      },
      "file_extension": ".py",
      "mimetype": "text/x-python",
      "name": "python",
      "nbconvert_exporter": "python",
      "pygments_lexer": "ipython3",
      "version": "3.10.13"
    }
  },
  "nbformat": 4,
  "nbformat_minor": 0
}

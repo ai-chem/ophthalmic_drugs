{
 "cells": [
  {
   "cell_type": "code",
   "execution_count": 1,
   "metadata": {},
   "outputs": [],
   "source": [
    "import pandas as pd\n",
    "import numpy as np\n",
    "from sklearn.model_selection import train_test_split\n",
    "from rdkit import Chem\n",
    "from rdkit.Chem import AllChem\n",
    "from rdkit.DataStructs.cDataStructs import ConvertToNumpyArray\n",
    "from sklearn.ensemble import GradientBoostingClassifier\n",
    "from rdkit.Chem import MACCSkeys\n",
    "import pickle\n",
    "from sklearn.metrics import f1_score\n",
    "\n",
    "from xgboost import XGBClassifier"
   ]
  },
  {
   "cell_type": "markdown",
   "metadata": {},
   "source": [
    "## Load dataset"
   ]
  },
  {
   "cell_type": "code",
   "execution_count": 2,
   "metadata": {},
   "outputs": [
    {
     "data": {
      "text/html": [
       "<div>\n",
       "<style scoped>\n",
       "    .dataframe tbody tr th:only-of-type {\n",
       "        vertical-align: middle;\n",
       "    }\n",
       "\n",
       "    .dataframe tbody tr th {\n",
       "        vertical-align: top;\n",
       "    }\n",
       "\n",
       "    .dataframe thead th {\n",
       "        text-align: right;\n",
       "    }\n",
       "</style>\n",
       "<table border=\"1\" class=\"dataframe\">\n",
       "  <thead>\n",
       "    <tr style=\"text-align: right;\">\n",
       "      <th></th>\n",
       "      <th>SMILES</th>\n",
       "      <th>Melanin</th>\n",
       "      <th>Class</th>\n",
       "    </tr>\n",
       "  </thead>\n",
       "  <tbody>\n",
       "    <tr>\n",
       "      <th>0</th>\n",
       "      <td>CCN(CC)CCNC(=O)c1ccc(cc1)N.Cl</td>\n",
       "      <td>1.7</td>\n",
       "      <td>1</td>\n",
       "    </tr>\n",
       "    <tr>\n",
       "      <th>1</th>\n",
       "      <td>COCCNC(=O)CN1C2CCC1CC(C2)(c3cccnc3)O</td>\n",
       "      <td>38.7</td>\n",
       "      <td>1</td>\n",
       "    </tr>\n",
       "    <tr>\n",
       "      <th>2</th>\n",
       "      <td>CC1=NN=C(c2cc3c(cc2C1)OCO3)c4ccc(cc4)N</td>\n",
       "      <td>10.5</td>\n",
       "      <td>1</td>\n",
       "    </tr>\n",
       "    <tr>\n",
       "      <th>3</th>\n",
       "      <td>CC1C2Cc3ccc(cc3C1(CCN2CC=C)C)O</td>\n",
       "      <td>44.8</td>\n",
       "      <td>1</td>\n",
       "    </tr>\n",
       "    <tr>\n",
       "      <th>4</th>\n",
       "      <td>COc1ccc(cc1)c2coc3cc(ccc3c2=O)OC</td>\n",
       "      <td>5.5</td>\n",
       "      <td>1</td>\n",
       "    </tr>\n",
       "    <tr>\n",
       "      <th>...</th>\n",
       "      <td>...</td>\n",
       "      <td>...</td>\n",
       "      <td>...</td>\n",
       "    </tr>\n",
       "    <tr>\n",
       "      <th>775</th>\n",
       "      <td>c1ccc(cc1)c2cc(nc(n2)N)c3[nH]c4c(n3)cccn4</td>\n",
       "      <td>0.2</td>\n",
       "      <td>0</td>\n",
       "    </tr>\n",
       "    <tr>\n",
       "      <th>776</th>\n",
       "      <td>COc1ccc(cc1S(=O)(=O)N2CCc3c2cc(cc3)C(=O)Nc4nc(...</td>\n",
       "      <td>17.9</td>\n",
       "      <td>1</td>\n",
       "    </tr>\n",
       "    <tr>\n",
       "      <th>777</th>\n",
       "      <td>Cn1ccnc1c2c(cnc(n2)NCCOC)c3cccc(c3)OC</td>\n",
       "      <td>59.5</td>\n",
       "      <td>1</td>\n",
       "    </tr>\n",
       "    <tr>\n",
       "      <th>778</th>\n",
       "      <td>Cc1cnc(s1)Nc2c(nccn2)C3CCN(CC3)C</td>\n",
       "      <td>0.7</td>\n",
       "      <td>0</td>\n",
       "    </tr>\n",
       "    <tr>\n",
       "      <th>779</th>\n",
       "      <td>CCN1CCN(CC1)c2ncc(c(n2)c3ccoc3C)c4cc(no4)C</td>\n",
       "      <td>2.1</td>\n",
       "      <td>1</td>\n",
       "    </tr>\n",
       "  </tbody>\n",
       "</table>\n",
       "<p>780 rows × 3 columns</p>\n",
       "</div>"
      ],
      "text/plain": [
       "                                                SMILES  Melanin  Class\n",
       "0                        CCN(CC)CCNC(=O)c1ccc(cc1)N.Cl      1.7      1\n",
       "1                 COCCNC(=O)CN1C2CCC1CC(C2)(c3cccnc3)O     38.7      1\n",
       "2               CC1=NN=C(c2cc3c(cc2C1)OCO3)c4ccc(cc4)N     10.5      1\n",
       "3                       CC1C2Cc3ccc(cc3C1(CCN2CC=C)C)O     44.8      1\n",
       "4                     COc1ccc(cc1)c2coc3cc(ccc3c2=O)OC      5.5      1\n",
       "..                                                 ...      ...    ...\n",
       "775          c1ccc(cc1)c2cc(nc(n2)N)c3[nH]c4c(n3)cccn4      0.2      0\n",
       "776  COc1ccc(cc1S(=O)(=O)N2CCc3c2cc(cc3)C(=O)Nc4nc(...     17.9      1\n",
       "777              Cn1ccnc1c2c(cnc(n2)NCCOC)c3cccc(c3)OC     59.5      1\n",
       "778                   Cc1cnc(s1)Nc2c(nccn2)C3CCN(CC3)C      0.7      0\n",
       "779         CCN1CCN(CC1)c2ncc(c(n2)c3ccoc3C)c4cc(no4)C      2.1      1\n",
       "\n",
       "[780 rows x 3 columns]"
      ]
     },
     "execution_count": 2,
     "metadata": {},
     "output_type": "execute_result"
    }
   ],
   "source": [
    "data = pd.read_csv('Melanin_class.csv')\n",
    "data"
   ]
  },
  {
   "cell_type": "code",
   "execution_count": 3,
   "metadata": {},
   "outputs": [],
   "source": [
    "smiles = data['SMILES'].to_list()"
   ]
  },
  {
   "cell_type": "markdown",
   "metadata": {},
   "source": [
    "### Convert SMILES to MACCS fingerprints"
   ]
  },
  {
   "cell_type": "code",
   "execution_count": 4,
   "metadata": {},
   "outputs": [],
   "source": [
    "mols = [Chem.MolFromSmiles(i) for i in smiles]\n",
    "MACCS_list = []\n",
    "header = ['bit' + str(i) for i in range(167)]\n",
    "for i in range(len(mols)):\n",
    "    ds = list(MACCSkeys.GenMACCSKeys(mols[i]).ToBitString())\n",
    "    MACCS_list.append(ds)\n",
    "df = pd.DataFrame(MACCS_list,columns=header)\n",
    "df.insert(loc=0, column='SMILES', value=smiles)"
   ]
  },
  {
   "cell_type": "code",
   "execution_count": 6,
   "metadata": {},
   "outputs": [
    {
     "data": {
      "text/html": [
       "<div>\n",
       "<style scoped>\n",
       "    .dataframe tbody tr th:only-of-type {\n",
       "        vertical-align: middle;\n",
       "    }\n",
       "\n",
       "    .dataframe tbody tr th {\n",
       "        vertical-align: top;\n",
       "    }\n",
       "\n",
       "    .dataframe thead th {\n",
       "        text-align: right;\n",
       "    }\n",
       "</style>\n",
       "<table border=\"1\" class=\"dataframe\">\n",
       "  <thead>\n",
       "    <tr style=\"text-align: right;\">\n",
       "      <th></th>\n",
       "      <th>SMILES</th>\n",
       "      <th>bit0</th>\n",
       "      <th>bit1</th>\n",
       "      <th>bit2</th>\n",
       "      <th>bit3</th>\n",
       "      <th>bit4</th>\n",
       "      <th>bit5</th>\n",
       "      <th>bit6</th>\n",
       "      <th>bit7</th>\n",
       "      <th>bit8</th>\n",
       "      <th>...</th>\n",
       "      <th>bit157</th>\n",
       "      <th>bit158</th>\n",
       "      <th>bit159</th>\n",
       "      <th>bit160</th>\n",
       "      <th>bit161</th>\n",
       "      <th>bit162</th>\n",
       "      <th>bit163</th>\n",
       "      <th>bit164</th>\n",
       "      <th>bit165</th>\n",
       "      <th>bit166</th>\n",
       "    </tr>\n",
       "  </thead>\n",
       "  <tbody>\n",
       "    <tr>\n",
       "      <th>0</th>\n",
       "      <td>CCN(CC)CCNC(=O)c1ccc(cc1)N.Cl</td>\n",
       "      <td>0</td>\n",
       "      <td>0</td>\n",
       "      <td>0</td>\n",
       "      <td>0</td>\n",
       "      <td>0</td>\n",
       "      <td>0</td>\n",
       "      <td>0</td>\n",
       "      <td>0</td>\n",
       "      <td>0</td>\n",
       "      <td>...</td>\n",
       "      <td>0</td>\n",
       "      <td>1</td>\n",
       "      <td>0</td>\n",
       "      <td>1</td>\n",
       "      <td>1</td>\n",
       "      <td>1</td>\n",
       "      <td>1</td>\n",
       "      <td>1</td>\n",
       "      <td>1</td>\n",
       "      <td>1</td>\n",
       "    </tr>\n",
       "    <tr>\n",
       "      <th>1</th>\n",
       "      <td>COCCNC(=O)CN1C2CCC1CC(C2)(c3cccnc3)O</td>\n",
       "      <td>0</td>\n",
       "      <td>0</td>\n",
       "      <td>0</td>\n",
       "      <td>0</td>\n",
       "      <td>0</td>\n",
       "      <td>0</td>\n",
       "      <td>0</td>\n",
       "      <td>0</td>\n",
       "      <td>0</td>\n",
       "      <td>...</td>\n",
       "      <td>1</td>\n",
       "      <td>1</td>\n",
       "      <td>1</td>\n",
       "      <td>1</td>\n",
       "      <td>1</td>\n",
       "      <td>1</td>\n",
       "      <td>1</td>\n",
       "      <td>1</td>\n",
       "      <td>1</td>\n",
       "      <td>0</td>\n",
       "    </tr>\n",
       "    <tr>\n",
       "      <th>2</th>\n",
       "      <td>CC1=NN=C(c2cc3c(cc2C1)OCO3)c4ccc(cc4)N</td>\n",
       "      <td>0</td>\n",
       "      <td>0</td>\n",
       "      <td>0</td>\n",
       "      <td>0</td>\n",
       "      <td>0</td>\n",
       "      <td>0</td>\n",
       "      <td>0</td>\n",
       "      <td>0</td>\n",
       "      <td>0</td>\n",
       "      <td>...</td>\n",
       "      <td>1</td>\n",
       "      <td>1</td>\n",
       "      <td>1</td>\n",
       "      <td>1</td>\n",
       "      <td>1</td>\n",
       "      <td>1</td>\n",
       "      <td>1</td>\n",
       "      <td>1</td>\n",
       "      <td>1</td>\n",
       "      <td>0</td>\n",
       "    </tr>\n",
       "    <tr>\n",
       "      <th>3</th>\n",
       "      <td>CC1C2Cc3ccc(cc3C1(CCN2CC=C)C)O</td>\n",
       "      <td>0</td>\n",
       "      <td>0</td>\n",
       "      <td>0</td>\n",
       "      <td>0</td>\n",
       "      <td>0</td>\n",
       "      <td>0</td>\n",
       "      <td>0</td>\n",
       "      <td>0</td>\n",
       "      <td>0</td>\n",
       "      <td>...</td>\n",
       "      <td>1</td>\n",
       "      <td>1</td>\n",
       "      <td>0</td>\n",
       "      <td>1</td>\n",
       "      <td>1</td>\n",
       "      <td>1</td>\n",
       "      <td>1</td>\n",
       "      <td>1</td>\n",
       "      <td>1</td>\n",
       "      <td>0</td>\n",
       "    </tr>\n",
       "    <tr>\n",
       "      <th>4</th>\n",
       "      <td>COc1ccc(cc1)c2coc3cc(ccc3c2=O)OC</td>\n",
       "      <td>0</td>\n",
       "      <td>0</td>\n",
       "      <td>0</td>\n",
       "      <td>0</td>\n",
       "      <td>0</td>\n",
       "      <td>0</td>\n",
       "      <td>0</td>\n",
       "      <td>0</td>\n",
       "      <td>0</td>\n",
       "      <td>...</td>\n",
       "      <td>1</td>\n",
       "      <td>0</td>\n",
       "      <td>1</td>\n",
       "      <td>1</td>\n",
       "      <td>0</td>\n",
       "      <td>1</td>\n",
       "      <td>1</td>\n",
       "      <td>1</td>\n",
       "      <td>1</td>\n",
       "      <td>0</td>\n",
       "    </tr>\n",
       "    <tr>\n",
       "      <th>...</th>\n",
       "      <td>...</td>\n",
       "      <td>...</td>\n",
       "      <td>...</td>\n",
       "      <td>...</td>\n",
       "      <td>...</td>\n",
       "      <td>...</td>\n",
       "      <td>...</td>\n",
       "      <td>...</td>\n",
       "      <td>...</td>\n",
       "      <td>...</td>\n",
       "      <td>...</td>\n",
       "      <td>...</td>\n",
       "      <td>...</td>\n",
       "      <td>...</td>\n",
       "      <td>...</td>\n",
       "      <td>...</td>\n",
       "      <td>...</td>\n",
       "      <td>...</td>\n",
       "      <td>...</td>\n",
       "      <td>...</td>\n",
       "      <td>...</td>\n",
       "    </tr>\n",
       "    <tr>\n",
       "      <th>775</th>\n",
       "      <td>c1ccc(cc1)c2cc(nc(n2)N)c3[nH]c4c(n3)cccn4</td>\n",
       "      <td>0</td>\n",
       "      <td>0</td>\n",
       "      <td>0</td>\n",
       "      <td>0</td>\n",
       "      <td>0</td>\n",
       "      <td>0</td>\n",
       "      <td>0</td>\n",
       "      <td>0</td>\n",
       "      <td>0</td>\n",
       "      <td>...</td>\n",
       "      <td>0</td>\n",
       "      <td>1</td>\n",
       "      <td>0</td>\n",
       "      <td>0</td>\n",
       "      <td>1</td>\n",
       "      <td>1</td>\n",
       "      <td>1</td>\n",
       "      <td>0</td>\n",
       "      <td>1</td>\n",
       "      <td>0</td>\n",
       "    </tr>\n",
       "    <tr>\n",
       "      <th>776</th>\n",
       "      <td>COc1ccc(cc1S(=O)(=O)N2CCc3c2cc(cc3)C(=O)Nc4nc(...</td>\n",
       "      <td>0</td>\n",
       "      <td>0</td>\n",
       "      <td>0</td>\n",
       "      <td>0</td>\n",
       "      <td>0</td>\n",
       "      <td>0</td>\n",
       "      <td>0</td>\n",
       "      <td>0</td>\n",
       "      <td>0</td>\n",
       "      <td>...</td>\n",
       "      <td>1</td>\n",
       "      <td>1</td>\n",
       "      <td>1</td>\n",
       "      <td>1</td>\n",
       "      <td>1</td>\n",
       "      <td>1</td>\n",
       "      <td>1</td>\n",
       "      <td>1</td>\n",
       "      <td>1</td>\n",
       "      <td>0</td>\n",
       "    </tr>\n",
       "    <tr>\n",
       "      <th>777</th>\n",
       "      <td>Cn1ccnc1c2c(cnc(n2)NCCOC)c3cccc(c3)OC</td>\n",
       "      <td>0</td>\n",
       "      <td>0</td>\n",
       "      <td>0</td>\n",
       "      <td>0</td>\n",
       "      <td>0</td>\n",
       "      <td>0</td>\n",
       "      <td>0</td>\n",
       "      <td>0</td>\n",
       "      <td>0</td>\n",
       "      <td>...</td>\n",
       "      <td>1</td>\n",
       "      <td>1</td>\n",
       "      <td>1</td>\n",
       "      <td>1</td>\n",
       "      <td>1</td>\n",
       "      <td>1</td>\n",
       "      <td>1</td>\n",
       "      <td>1</td>\n",
       "      <td>1</td>\n",
       "      <td>0</td>\n",
       "    </tr>\n",
       "    <tr>\n",
       "      <th>778</th>\n",
       "      <td>Cc1cnc(s1)Nc2c(nccn2)C3CCN(CC3)C</td>\n",
       "      <td>0</td>\n",
       "      <td>0</td>\n",
       "      <td>0</td>\n",
       "      <td>0</td>\n",
       "      <td>0</td>\n",
       "      <td>0</td>\n",
       "      <td>0</td>\n",
       "      <td>0</td>\n",
       "      <td>0</td>\n",
       "      <td>...</td>\n",
       "      <td>0</td>\n",
       "      <td>1</td>\n",
       "      <td>0</td>\n",
       "      <td>1</td>\n",
       "      <td>1</td>\n",
       "      <td>1</td>\n",
       "      <td>1</td>\n",
       "      <td>0</td>\n",
       "      <td>1</td>\n",
       "      <td>0</td>\n",
       "    </tr>\n",
       "    <tr>\n",
       "      <th>779</th>\n",
       "      <td>CCN1CCN(CC1)c2ncc(c(n2)c3ccoc3C)c4cc(no4)C</td>\n",
       "      <td>0</td>\n",
       "      <td>0</td>\n",
       "      <td>0</td>\n",
       "      <td>0</td>\n",
       "      <td>0</td>\n",
       "      <td>0</td>\n",
       "      <td>0</td>\n",
       "      <td>0</td>\n",
       "      <td>0</td>\n",
       "      <td>...</td>\n",
       "      <td>0</td>\n",
       "      <td>1</td>\n",
       "      <td>1</td>\n",
       "      <td>1</td>\n",
       "      <td>1</td>\n",
       "      <td>1</td>\n",
       "      <td>1</td>\n",
       "      <td>1</td>\n",
       "      <td>1</td>\n",
       "      <td>0</td>\n",
       "    </tr>\n",
       "  </tbody>\n",
       "</table>\n",
       "<p>780 rows × 168 columns</p>\n",
       "</div>"
      ],
      "text/plain": [
       "                                                SMILES bit0 bit1 bit2 bit3  \\\n",
       "0                        CCN(CC)CCNC(=O)c1ccc(cc1)N.Cl    0    0    0    0   \n",
       "1                 COCCNC(=O)CN1C2CCC1CC(C2)(c3cccnc3)O    0    0    0    0   \n",
       "2               CC1=NN=C(c2cc3c(cc2C1)OCO3)c4ccc(cc4)N    0    0    0    0   \n",
       "3                       CC1C2Cc3ccc(cc3C1(CCN2CC=C)C)O    0    0    0    0   \n",
       "4                     COc1ccc(cc1)c2coc3cc(ccc3c2=O)OC    0    0    0    0   \n",
       "..                                                 ...  ...  ...  ...  ...   \n",
       "775          c1ccc(cc1)c2cc(nc(n2)N)c3[nH]c4c(n3)cccn4    0    0    0    0   \n",
       "776  COc1ccc(cc1S(=O)(=O)N2CCc3c2cc(cc3)C(=O)Nc4nc(...    0    0    0    0   \n",
       "777              Cn1ccnc1c2c(cnc(n2)NCCOC)c3cccc(c3)OC    0    0    0    0   \n",
       "778                   Cc1cnc(s1)Nc2c(nccn2)C3CCN(CC3)C    0    0    0    0   \n",
       "779         CCN1CCN(CC1)c2ncc(c(n2)c3ccoc3C)c4cc(no4)C    0    0    0    0   \n",
       "\n",
       "    bit4 bit5 bit6 bit7 bit8  ... bit157 bit158 bit159 bit160 bit161 bit162  \\\n",
       "0      0    0    0    0    0  ...      0      1      0      1      1      1   \n",
       "1      0    0    0    0    0  ...      1      1      1      1      1      1   \n",
       "2      0    0    0    0    0  ...      1      1      1      1      1      1   \n",
       "3      0    0    0    0    0  ...      1      1      0      1      1      1   \n",
       "4      0    0    0    0    0  ...      1      0      1      1      0      1   \n",
       "..   ...  ...  ...  ...  ...  ...    ...    ...    ...    ...    ...    ...   \n",
       "775    0    0    0    0    0  ...      0      1      0      0      1      1   \n",
       "776    0    0    0    0    0  ...      1      1      1      1      1      1   \n",
       "777    0    0    0    0    0  ...      1      1      1      1      1      1   \n",
       "778    0    0    0    0    0  ...      0      1      0      1      1      1   \n",
       "779    0    0    0    0    0  ...      0      1      1      1      1      1   \n",
       "\n",
       "    bit163 bit164 bit165 bit166  \n",
       "0        1      1      1      1  \n",
       "1        1      1      1      0  \n",
       "2        1      1      1      0  \n",
       "3        1      1      1      0  \n",
       "4        1      1      1      0  \n",
       "..     ...    ...    ...    ...  \n",
       "775      1      0      1      0  \n",
       "776      1      1      1      0  \n",
       "777      1      1      1      0  \n",
       "778      1      0      1      0  \n",
       "779      1      1      1      0  \n",
       "\n",
       "[780 rows x 168 columns]"
      ]
     },
     "execution_count": 6,
     "metadata": {},
     "output_type": "execute_result"
    }
   ],
   "source": [
    "df"
   ]
  },
  {
   "cell_type": "markdown",
   "metadata": {},
   "source": [
    "### Split data into predictor and target"
   ]
  },
  {
   "cell_type": "code",
   "execution_count": 5,
   "metadata": {},
   "outputs": [],
   "source": [
    "X = df.iloc[:, 1:168].astype(int)\n",
    "y = data['Class']\n"
   ]
  },
  {
   "cell_type": "code",
   "execution_count": 8,
   "metadata": {},
   "outputs": [
    {
     "data": {
      "text/plain": [
       "(780, 167)"
      ]
     },
     "execution_count": 8,
     "metadata": {},
     "output_type": "execute_result"
    }
   ],
   "source": [
    "X.shape"
   ]
  },
  {
   "cell_type": "code",
   "execution_count": 6,
   "metadata": {},
   "outputs": [],
   "source": [
    "Xtrain, Xtest, ytrain, ytest = train_test_split(X, y, test_size=0.2, random_state=42)"
   ]
  },
  {
   "cell_type": "markdown",
   "metadata": {},
   "source": [
    "Fit the model"
   ]
  },
  {
   "cell_type": "code",
   "execution_count": 20,
   "metadata": {},
   "outputs": [],
   "source": [
    "model = XGBClassifier(random_state=10).fit(Xtrain, ytrain)"
   ]
  },
  {
   "cell_type": "code",
   "execution_count": 21,
   "metadata": {},
   "outputs": [
    {
     "data": {
      "text/plain": [
       "0.7564102564102564"
      ]
     },
     "execution_count": 21,
     "metadata": {},
     "output_type": "execute_result"
    }
   ],
   "source": [
    "model.score(Xtest, ytest)"
   ]
  },
  {
   "cell_type": "code",
   "execution_count": 22,
   "metadata": {},
   "outputs": [
    {
     "data": {
      "text/plain": [
       "0.9967948717948718"
      ]
     },
     "execution_count": 22,
     "metadata": {},
     "output_type": "execute_result"
    }
   ],
   "source": [
    "model.score(Xtrain, ytrain)"
   ]
  },
  {
   "cell_type": "markdown",
   "metadata": {},
   "source": [
    "### Hyperparameter optimization"
   ]
  },
  {
   "cell_type": "code",
   "execution_count": 30,
   "metadata": {},
   "outputs": [],
   "source": [
    "from sklearn.model_selection import train_test_split, GridSearchCV\n",
    "\n",
    "def hyperParameterTuning(X_train, y_train):\n",
    "\n",
    "    param_tuning = { \n",
    "        'learning_rate': [0.01, 0.1, 0.2], \n",
    "        'max_depth': [2, 3, 5], \n",
    "        'min_child_weight': [5, 10], \n",
    "        'subsample': [0.5, 0.7, 1], \n",
    "        'colsample_bytree': [0.1, 0.3]\n",
    "    } \n",
    "\n",
    "    xgb_model = XGBClassifier(random_state=10) \n",
    "\n",
    "    gsearch = GridSearchCV(estimator=xgb_model, \n",
    "                           param_grid=param_tuning,\n",
    "                           scoring='neg_mean_squared_error',  \n",
    "                           cv=10, \n",
    "                           n_jobs=-1, \n",
    "                           verbose=1) \n",
    "\n",
    "    gsearch.fit(X_train, y_train) \n",
    "\n",
    "    return gsearch.best_params_"
   ]
  },
  {
   "cell_type": "code",
   "execution_count": 31,
   "metadata": {},
   "outputs": [
    {
     "name": "stdout",
     "output_type": "stream",
     "text": [
      "Fitting 10 folds for each of 108 candidates, totalling 1080 fits\n"
     ]
    },
    {
     "data": {
      "text/plain": [
       "{'colsample_bytree': 0.3,\n",
       " 'learning_rate': 0.1,\n",
       " 'max_depth': 5,\n",
       " 'min_child_weight': 5,\n",
       " 'subsample': 0.5}"
      ]
     },
     "execution_count": 31,
     "metadata": {},
     "output_type": "execute_result"
    }
   ],
   "source": [
    "hyperParameterTuning(Xtrain, ytrain)"
   ]
  },
  {
   "cell_type": "code",
   "execution_count": 7,
   "metadata": {},
   "outputs": [
    {
     "data": {
      "text/plain": [
       "XGBClassifier(base_score=None, booster=None, callbacks=None,\n",
       "              colsample_bylevel=None, colsample_bynode=None,\n",
       "              colsample_bytree=0.3, device=None, early_stopping_rounds=None,\n",
       "              enable_categorical=False, eval_metric=None, feature_types=None,\n",
       "              gamma=None, grow_policy=None, importance_type=None,\n",
       "              interaction_constraints=None, learning_rate=0.1, max_bin=None,\n",
       "              max_cat_threshold=None, max_cat_to_onehot=None,\n",
       "              max_delta_step=None, max_depth=5, max_leaves=None,\n",
       "              min_child_weight=5, missing=nan, monotone_constraints=None,\n",
       "              multi_strategy=None, n_estimators=None, n_jobs=None,\n",
       "              num_parallel_tree=None, random_state=10, ...)"
      ]
     },
     "execution_count": 7,
     "metadata": {},
     "output_type": "execute_result"
    }
   ],
   "source": [
    "opt_model = XGBClassifier(colsample_bytree = 0.3,\n",
    "                                learning_rate = 0.1,\n",
    "                                max_depth = 5,\n",
    "                                min_child_weight = 5,\n",
    "                                subsample = 0.5,\n",
    "                                random_state=10)\n",
    "opt_model.fit(Xtrain, ytrain)"
   ]
  },
  {
   "cell_type": "code",
   "execution_count": 8,
   "metadata": {},
   "outputs": [
    {
     "data": {
      "text/plain": [
       "0.7692307692307693"
      ]
     },
     "execution_count": 8,
     "metadata": {},
     "output_type": "execute_result"
    }
   ],
   "source": [
    "opt_model.score(Xtest, ytest)"
   ]
  },
  {
   "cell_type": "code",
   "execution_count": 34,
   "metadata": {},
   "outputs": [
    {
     "data": {
      "text/plain": [
       "0.8894230769230769"
      ]
     },
     "execution_count": 34,
     "metadata": {},
     "output_type": "execute_result"
    }
   ],
   "source": [
    "opt_model.score(Xtrain, ytrain)"
   ]
  },
  {
   "cell_type": "code",
   "execution_count": 35,
   "metadata": {},
   "outputs": [],
   "source": [
    "opt_model.save_model('melanin.json')"
   ]
  },
  {
   "cell_type": "markdown",
   "metadata": {},
   "source": [
    "### Visualizing of model performance"
   ]
  },
  {
   "cell_type": "code",
   "execution_count": 38,
   "metadata": {},
   "outputs": [
    {
     "data": {
      "image/png": "[encoded data removed]",
      "text/plain": [
       "<Figure size 800x600 with 1 Axes>"
      ]
     },
     "metadata": {},
     "output_type": "display_data"
    }
   ],
   "source": [
    "import numpy as np\n",
    "import matplotlib.pyplot as plt\n",
    "from sklearn.metrics import roc_curve, auc\n",
    "from sklearn.model_selection import train_test_split\n",
    "\n",
    "\n",
    "\n",
    "# Predict probabilities for the test set\n",
    "y_pred = opt_model.predict_proba(Xtest)[:, 1]\n",
    "\n",
    "# Compute ROC curve and AUC\n",
    "fpr, tpr, thresholds = roc_curve(ytest, y_pred)\n",
    "roc_auc = auc(fpr, tpr)\n",
    "\n",
    "# Plotting the ROC curve\n",
    "plt.figure(figsize=(8, 6))\n",
    "plt.plot(fpr, tpr, color='blue', label='ROC curve (area = {:.2f})'.format(roc_auc))\n",
    "plt.plot([0, 1], [0, 1], color='#87CEFA', linestyle='--')  # Diagonal line for random guessing\n",
    "plt.xlim([0.0, 1.0])\n",
    "plt.ylim([0.0, 1.05])\n",
    "plt.xlabel('False Positive Rate', fontsize=20)\n",
    "plt.ylabel('True Positive Rate', fontsize=20)\n",
    "plt.legend(loc='lower right', fontsize=20)\n",
    "\n",
    "# Set larger font size for tick labels\n",
    "plt.tick_params(axis='both', labelsize=16)\n",
    "plt.grid()\n",
    "plt.savefig('melanin_ML.svg', dpi=700, bbox_inches='tight')\n",
    "plt.show()"
   ]
  },
  {
   "cell_type": "code",
   "execution_count": 10,
   "metadata": {},
   "outputs": [],
   "source": [
    "importance = opt_model.feature_importances_"
   ]
  },
  {
   "cell_type": "code",
   "execution_count": 11,
   "metadata": {},
   "outputs": [],
   "source": [
    "feature_importance_df = pd.DataFrame({'Feature': X.columns, 'Importance': importance})\n",
    "feature_importance_df = feature_importance_df.sort_values(by='Importance', ascending=False)"
   ]
  },
  {
   "cell_type": "code",
   "execution_count": 21,
   "metadata": {},
   "outputs": [],
   "source": [
    "filtered_importance_df = feature_importance_df[feature_importance_df['Importance'] >= 0.02]"
   ]
  },
  {
   "cell_type": "code",
   "execution_count": 22,
   "metadata": {},
   "outputs": [
    {
     "data": {
      "text/html": [
       "<div>\n",
       "<style scoped>\n",
       "    .dataframe tbody tr th:only-of-type {\n",
       "        vertical-align: middle;\n",
       "    }\n",
       "\n",
       "    .dataframe tbody tr th {\n",
       "        vertical-align: top;\n",
       "    }\n",
       "\n",
       "    .dataframe thead th {\n",
       "        text-align: right;\n",
       "    }\n",
       "</style>\n",
       "<table border=\"1\" class=\"dataframe\">\n",
       "  <thead>\n",
       "    <tr style=\"text-align: right;\">\n",
       "      <th></th>\n",
       "      <th>Feature</th>\n",
       "      <th>Importance</th>\n",
       "    </tr>\n",
       "  </thead>\n",
       "  <tbody>\n",
       "    <tr>\n",
       "      <th>125</th>\n",
       "      <td>bit125</td>\n",
       "      <td>0.036691</td>\n",
       "    </tr>\n",
       "    <tr>\n",
       "      <th>98</th>\n",
       "      <td>bit98</td>\n",
       "      <td>0.034686</td>\n",
       "    </tr>\n",
       "    <tr>\n",
       "      <th>145</th>\n",
       "      <td>bit145</td>\n",
       "      <td>0.033549</td>\n",
       "    </tr>\n",
       "    <tr>\n",
       "      <th>124</th>\n",
       "      <td>bit124</td>\n",
       "      <td>0.033382</td>\n",
       "    </tr>\n",
       "    <tr>\n",
       "      <th>142</th>\n",
       "      <td>bit142</td>\n",
       "      <td>0.028507</td>\n",
       "    </tr>\n",
       "    <tr>\n",
       "      <th>141</th>\n",
       "      <td>bit141</td>\n",
       "      <td>0.023258</td>\n",
       "    </tr>\n",
       "    <tr>\n",
       "      <th>101</th>\n",
       "      <td>bit101</td>\n",
       "      <td>0.021519</td>\n",
       "    </tr>\n",
       "    <tr>\n",
       "      <th>105</th>\n",
       "      <td>bit105</td>\n",
       "      <td>0.021010</td>\n",
       "    </tr>\n",
       "  </tbody>\n",
       "</table>\n",
       "</div>"
      ],
      "text/plain": [
       "    Feature  Importance\n",
       "125  bit125    0.036691\n",
       "98    bit98    0.034686\n",
       "145  bit145    0.033549\n",
       "124  bit124    0.033382\n",
       "142  bit142    0.028507\n",
       "141  bit141    0.023258\n",
       "101  bit101    0.021519\n",
       "105  bit105    0.021010"
      ]
     },
     "execution_count": 22,
     "metadata": {},
     "output_type": "execute_result"
    }
   ],
   "source": [
    "filtered_importance_df"
   ]
  },
  {
   "cell_type": "code",
   "execution_count": 24,
   "metadata": {},
   "outputs": [
    {
     "name": "stderr",
     "output_type": "stream",
     "text": [
      "C:\\Users\\Anastasia\\AppData\\Local\\Temp\\ipykernel_18928\\3164032357.py:9: FutureWarning: \n",
      "\n",
      "Passing `palette` without assigning `hue` is deprecated and will be removed in v0.14.0. Assign the `y` variable to `hue` and set `legend=False` for the same effect.\n",
      "\n",
      "  sns.barplot(x='Importance', y='Feature', data=filtered_importance_df, palette='Blues', color='steelblue')\n"
     ]
    },
    {
     "data": {
      "image/png": "[encoded data removed]",
      "text/plain": [
       "<Figure size 800x600 with 1 Axes>"
      ]
     },
     "metadata": {},
     "output_type": "display_data"
    }
   ],
   "source": [
    "import matplotlib.pyplot as pyplot\n",
    "import seaborn as sns\n",
    "# Plot the feature importances\n",
    "sns.set_style(\"white\")\n",
    "\n",
    "pyplot.figure(figsize=(8, 6))\n",
    "\n",
    "\n",
    "sns.barplot(x='Importance', y='Feature', data=filtered_importance_df, palette='Blues', color='steelblue')\n",
    "sns.set_style(\"whitegrid\")\n",
    "pyplot.xlabel('Importance Score', fontsize = 20)\n",
    "pyplot.tick_params(axis='both', labelsize=18)\n",
    "\n",
    "pyplot.savefig('FI_melanin.svg', dpi=700)\n",
    "pyplot.show()"
   ]
  },
  {
   "cell_type": "code",
   "execution_count": null,
   "metadata": {},
   "outputs": [
    {
     "data": {
      "text/plain": [
       "<Figure size 800x200 with 0 Axes>"
      ]
     },
     "metadata": {},
     "output_type": "display_data"
    },
    {
     "data": {
      "image/png": "[encoded data removed]",
      "text/plain": [
       "<Figure size 600x100 with 1 Axes>"
      ]
     },
     "metadata": {},
     "output_type": "display_data"
    },
    {
     "name": "stdout",
     "output_type": "stream",
     "text": [
      "['#dbe9f6', '#bad6eb', '#89bedc', '#539ecd', '#2b7bba', '#0b559f']\n"
     ]
    }
   ],
   "source": [
    "import seaborn as sns\n",
    "import matplotlib.pyplot as plt\n",
    "from matplotlib.colors import to_hex\n",
    "\n",
    "# Create a color palette with six colors from the \"Blues\" palette\n",
    "blues_palette = sns.color_palette(\"Blues\", n_colors=6)\n",
    "\n",
    "# Display the colors\n",
    "plt.figure(figsize=(8, 2))\n",
    "sns.palplot(blues_palette)\n",
    "plt.title(\"Blues Color Palette - 6 Colors\")\n",
    "plt.show()\n",
    "\n",
    "hex_colors = [to_hex(color) for color in blues_palette]\n",
    "print(hex_colors)\n"
   ]
  }
 ],
 "metadata": {
  "kernelspec": {
   "display_name": "freed",
   "language": "python",
   "name": "python3"
  },
  "language_info": {
   "codemirror_mode": {
    "name": "ipython",
    "version": 3
   },
   "file_extension": ".py",
   "mimetype": "text/x-python",
   "name": "python",
   "nbconvert_exporter": "python",
   "pygments_lexer": "ipython3",
   "version": "3.10.13"
  }
 },
 "nbformat": 4,
 "nbformat_minor": 2
}

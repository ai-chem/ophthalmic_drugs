{
 "cells": [
  {
   "cell_type": "code",
   "execution_count": 1,
   "metadata": {},
   "outputs": [],
   "source": [
    "import matplotlib.pyplot as plt\n",
    "import torch\n",
    "import numpy as np\n",
    "import pandas as pd\n",
    "\n",
    "\n",
    "from sklearn.model_selection import train_test_split\n",
    "\n",
    "import pickle\n",
    "from sklearn.metrics import f1_score"
   ]
  },
  {
   "cell_type": "markdown",
   "metadata": {},
   "source": [
    "### Preparing data"
   ]
  },
  {
   "cell_type": "code",
   "execution_count": 2,
   "metadata": {},
   "outputs": [],
   "source": [
    "df = pd.read_csv(r'C:\\Users\\Anastasia\\Documents\\GitHub2\\ophthalmic_drugs\\Analysis\\melanin\\data_preprossesing\\MACCS_melanin_classes.csv')\n"
   ]
  },
  {
   "cell_type": "code",
   "execution_count": 3,
   "metadata": {},
   "outputs": [],
   "source": [
    "X = np.array(df.iloc[:, 0:166])\n",
    "y = np.array(df['Class'])"
   ]
  },
  {
   "cell_type": "code",
   "execution_count": 4,
   "metadata": {},
   "outputs": [],
   "source": [
    "Xtrain, Xtest, ytrain, ytest = train_test_split(X, y, test_size=0.2, random_state=10)"
   ]
  },
  {
   "cell_type": "markdown",
   "metadata": {},
   "source": [
    "### Train KAN"
   ]
  },
  {
   "cell_type": "code",
   "execution_count": 5,
   "metadata": {},
   "outputs": [],
   "source": [
    "from kan.KAN import KAN"
   ]
  },
  {
   "cell_type": "code",
   "execution_count": 6,
   "metadata": {},
   "outputs": [],
   "source": [
    "dataset = {}\n",
    "dataset['train_input'] = torch.tensor(Xtrain, dtype=torch.int64)\n",
    "dataset['train_label'] = torch.tensor(ytrain.reshape(-1, 1), dtype=torch.int64)\n",
    "dataset['test_input'] = torch.tensor(Xtest, dtype=torch.int64)\n",
    "dataset['test_label'] = torch.tensor(ytest.reshape(-1, 1), dtype=torch.int64)\n",
    "\n",
    "X = dataset['train_input']\n",
    "y = dataset['train_label']\n"
   ]
  },
  {
   "cell_type": "code",
   "execution_count": 7,
   "metadata": {},
   "outputs": [
    {
     "data": {
      "text/plain": [
       "torch.Size([624, 166])"
      ]
     },
     "execution_count": 7,
     "metadata": {},
     "output_type": "execute_result"
    }
   ],
   "source": [
    "dataset['train_input'].shape"
   ]
  },
  {
   "cell_type": "code",
   "execution_count": 8,
   "metadata": {},
   "outputs": [
    {
     "data": {
      "text/plain": [
       "torch.Size([624, 1])"
      ]
     },
     "execution_count": 8,
     "metadata": {},
     "output_type": "execute_result"
    }
   ],
   "source": [
    "dataset['train_label'].shape"
   ]
  },
  {
   "cell_type": "code",
   "execution_count": 34,
   "metadata": {},
   "outputs": [],
   "source": [
    "model = KAN(width=[166,1,1], grid=10, seed=42)"
   ]
  },
  {
   "cell_type": "code",
   "execution_count": 35,
   "metadata": {},
   "outputs": [
    {
     "name": "stderr",
     "output_type": "stream",
     "text": [
      "train loss: 3.91e-01 | test loss: 4.24e-01 | reg: 2.61e+00 : 100%|██| 20/20 [00:36<00:00,  1.81s/it]\n"
     ]
    },
    {
     "data": {
      "text/plain": [
       "(0.7836538553237915, 0.7564102411270142)"
      ]
     },
     "execution_count": 35,
     "metadata": {},
     "output_type": "execute_result"
    }
   ],
   "source": [
    "def train_acc():\n",
    "    return torch.mean((torch.round(model(dataset['train_input'])[:,0]) == dataset['train_label'][:,0]).float())\n",
    "\n",
    "def test_acc():\n",
    "    return torch.mean((torch.round(model(dataset['test_input'])[:,0]) == dataset['test_label'][:,0]).float())\n",
    "\n",
    "results = model.train(dataset, opt=\"LBFGS\", steps=20, metrics=(train_acc, test_acc), lamb = 0.1, lamb_entropy = 0.0)\n",
    "results['train_acc'][-1], results['test_acc'][-1]"
   ]
  },
  {
   "cell_type": "code",
   "execution_count": 19,
   "metadata": {},
   "outputs": [
    {
     "name": "stderr",
     "output_type": "stream",
     "text": [
      "train loss: 4.02e-01 | test loss: 4.28e-01 | reg: 6.59e+00 : 100%|██| 10/10 [00:12<00:00,  1.27s/it]\n",
      "train loss: 3.90e-01 | test loss: 4.17e-01 | reg: 6.33e+00 : 100%|██| 10/10 [00:11<00:00,  1.18s/it]\n",
      "train loss: 3.46e-01 | test loss: 4.15e-01 | reg: 4.50e+00 : 100%|██| 10/10 [00:18<00:00,  1.86s/it]\n",
      "train loss: 3.37e-01 | test loss: 4.13e-01 | reg: 4.08e+00 : 100%|██| 10/10 [00:18<00:00,  1.86s/it]\n",
      "train loss: 3.11e-01 | test loss: 4.20e-01 | reg: 3.45e+00 : 100%|██| 10/10 [00:23<00:00,  2.37s/it]\n",
      "train loss: 4.04e-01 | test loss: 4.38e-01 | reg: 6.54e+00 : 100%|██| 10/10 [00:16<00:00,  1.62s/it]\n",
      "train loss: nan | test loss: nan | reg: nan : 100%|█████████████████| 10/10 [00:26<00:00,  2.63s/it]\n",
      "train loss: 4.07e-01 | test loss: 4.28e-01 | reg: 7.97e+00 : 100%|██| 10/10 [00:19<00:00,  1.94s/it]\n",
      "train loss: 4.32e-01 | test loss: 4.64e-01 | reg: 4.86e+01 : 100%|██| 10/10 [00:17<00:00,  1.76s/it]\n",
      "train loss: 5.53e-01 | test loss: 6.22e-01 | reg: 5.18e+01 : 100%|██| 10/10 [00:17<00:00,  1.75s/it]\n",
      "train loss: 4.04e-01 | test loss: 4.32e-01 | reg: 3.52e+01 : 100%|██| 10/10 [00:16<00:00,  1.67s/it]\n",
      "train loss: 3.68e-01 | test loss: 4.11e-01 | reg: 2.91e+01 : 100%|██| 10/10 [00:14<00:00,  1.47s/it]\n",
      "train loss: 5.59e-01 | test loss: 5.62e-01 | reg: 5.13e+01 : 100%|██| 10/10 [00:14<00:00,  1.44s/it]\n",
      "train loss: 3.85e-01 | test loss: 4.27e-01 | reg: 3.44e+01 : 100%|██| 10/10 [00:19<00:00,  1.96s/it]\n",
      "train loss: 3.74e-01 | test loss: 4.18e-01 | reg: 3.59e+01 : 100%|██| 10/10 [00:21<00:00,  2.13s/it]\n",
      "train loss: 4.10e-01 | test loss: 4.63e-01 | reg: 4.18e+01 : 100%|██| 10/10 [00:22<00:00,  2.24s/it]\n",
      "train loss: 6.27e-01 | test loss: 6.43e-01 | reg: 3.71e+02 : 100%|██| 10/10 [00:14<00:00,  1.48s/it]\n",
      "train loss: 5.83e-01 | test loss: 6.45e-01 | reg: 2.34e+02 : 100%|██| 10/10 [00:17<00:00,  1.70s/it]\n",
      "train loss: 4.11e-01 | test loss: 4.34e-01 | reg: 1.01e+02 : 100%|██| 10/10 [00:18<00:00,  1.85s/it]\n",
      "train loss: 3.97e-01 | test loss: 4.27e-01 | reg: 7.27e+01 : 100%|██| 10/10 [00:21<00:00,  2.20s/it]\n",
      "train loss: 4.00e-01 | test loss: 4.32e-01 | reg: 9.69e+01 : 100%|██| 10/10 [00:19<00:00,  1.98s/it]\n",
      "train loss: 4.23e-01 | test loss: 4.66e-01 | reg: 1.21e+02 : 100%|██| 10/10 [00:19<00:00,  1.93s/it]\n",
      "train loss: 4.05e-01 | test loss: 4.39e-01 | reg: 7.31e+01 : 100%|██| 10/10 [00:28<00:00,  2.84s/it]\n",
      "train loss: 4.86e-01 | test loss: 5.16e-01 | reg: 1.63e+02 : 100%|██| 10/10 [00:17<00:00,  1.75s/it]\n",
      "train loss: 6.75e-01 | test loss: 6.82e-01 | reg: 7.70e+00 : 100%|██| 10/10 [00:12<00:00,  1.26s/it]\n",
      "train loss: 6.50e-01 | test loss: 7.19e-01 | reg: 7.01e+00 : 100%|██| 10/10 [00:14<00:00,  1.44s/it]\n",
      "train loss: nan | test loss: nan | reg: nan : 100%|█████████████████| 10/10 [00:24<00:00,  2.41s/it]\n",
      "train loss: 3.97e-01 | test loss: 4.29e-01 | reg: 2.79e+00 : 100%|██| 10/10 [00:20<00:00,  2.00s/it]\n",
      "train loss: 4.02e-01 | test loss: 4.37e-01 | reg: 1.63e+00 : 100%|██| 10/10 [00:23<00:00,  2.36s/it]\n",
      "train loss: 3.92e-01 | test loss: 4.44e-01 | reg: 3.94e+00 : 100%|██| 10/10 [00:18<00:00,  1.81s/it]\n",
      "train loss: 3.92e-01 | test loss: 4.31e-01 | reg: 2.39e+00 : 100%|██| 10/10 [00:26<00:00,  2.67s/it]\n",
      "train loss: 6.08e-01 | test loss: 6.60e-01 | reg: 9.78e+00 : 100%|██| 10/10 [00:13<00:00,  1.32s/it]\n",
      "train loss: 1.02e+00 | test loss: 9.87e-01 | reg: 6.63e+01 : 100%|██| 10/10 [00:14<00:00,  1.42s/it]\n",
      "train loss: 7.19e-01 | test loss: 7.70e-01 | reg: 5.35e+01 : 100%|██| 10/10 [00:15<00:00,  1.51s/it]\n",
      "train loss: 4.35e-01 | test loss: 4.76e-01 | reg: 3.27e+01 : 100%|██| 10/10 [00:17<00:00,  1.73s/it]\n",
      "train loss: 7.57e-01 | test loss: 8.20e-01 | reg: 4.75e+01 : 100%|██| 10/10 [00:14<00:00,  1.47s/it]\n",
      "train loss: 7.82e-01 | test loss: 7.53e-01 | reg: 4.82e+01 : 100%|██| 10/10 [00:13<00:00,  1.36s/it]\n",
      "train loss: 7.74e-01 | test loss: 7.86e-01 | reg: 4.63e+01 : 100%|██| 10/10 [00:11<00:00,  1.19s/it]\n",
      "train loss: 1.04e+00 | test loss: 1.01e+00 | reg: 5.15e+01 : 100%|██| 10/10 [00:16<00:00,  1.66s/it]\n",
      "train loss: 7.42e-01 | test loss: 7.71e-01 | reg: 4.50e+01 : 100%|██| 10/10 [00:13<00:00,  1.37s/it]\n",
      "train loss: 8.26e-01 | test loss: 7.96e-01 | reg: 3.42e+02 : 100%|██| 10/10 [00:18<00:00,  1.85s/it]\n",
      "train loss: 8.36e-01 | test loss: 8.55e-01 | reg: 2.60e+02 : 100%|██| 10/10 [00:14<00:00,  1.47s/it]\n",
      "train loss: 4.50e-01 | test loss: 4.76e-01 | reg: 1.02e+02 : 100%|██| 10/10 [00:17<00:00,  1.76s/it]\n",
      "train loss: 8.65e-01 | test loss: 8.90e-01 | reg: 2.05e+02 : 100%|██| 10/10 [00:15<00:00,  1.54s/it]\n",
      "train loss: 7.49e-01 | test loss: 7.24e-01 | reg: 1.64e+02 : 100%|██| 10/10 [00:14<00:00,  1.44s/it]\n",
      "train loss: 6.56e-01 | test loss: 6.46e-01 | reg: 8.87e+01 : 100%|██| 10/10 [00:19<00:00,  1.97s/it]\n",
      "train loss: 4.41e-01 | test loss: 4.86e-01 | reg: 9.42e+01 : 100%|██| 10/10 [00:22<00:00,  2.24s/it]\n",
      "train loss: 7.26e-01 | test loss: 7.14e-01 | reg: 8.90e+01 : 100%|██| 10/10 [00:24<00:00,  2.48s/it]\n",
      "train loss: 2.80e-01 | test loss: 4.44e-01 | reg: 6.25e+01 : 100%|██| 10/10 [00:19<00:00,  1.97s/it]\n",
      "train loss: 2.83e-01 | test loss: 4.35e-01 | reg: 7.26e+01 : 100%|██| 10/10 [00:19<00:00,  1.96s/it]\n",
      "train loss: 2.30e-01 | test loss: 6.31e-01 | reg: 3.00e+01 : 100%|██| 10/10 [00:20<00:00,  2.09s/it]\n",
      "train loss: 2.27e-01 | test loss: 5.18e-01 | reg: 3.67e+01 : 100%|██| 10/10 [00:19<00:00,  1.99s/it]\n",
      "train loss: 2.18e-01 | test loss: 5.72e-01 | reg: 2.30e+01 : 100%|██| 10/10 [00:21<00:00,  2.19s/it]\n",
      "train loss: 2.31e-01 | test loss: 4.66e-01 | reg: 3.15e+01 : 100%|██| 10/10 [00:21<00:00,  2.10s/it]\n",
      "train loss: 2.11e-01 | test loss: 5.11e-01 | reg: 1.86e+01 : 100%|██| 10/10 [00:24<00:00,  2.42s/it]\n",
      "train loss: 2.35e-01 | test loss: 5.00e-01 | reg: 2.26e+01 : 100%|██| 10/10 [00:24<00:00,  2.40s/it]\n",
      "train loss: 2.80e-01 | test loss: 4.42e-01 | reg: 1.23e+02 : 100%|██| 10/10 [00:19<00:00,  1.97s/it]\n",
      "train loss: 2.83e-01 | test loss: 4.39e-01 | reg: 1.29e+02 : 100%|██| 10/10 [00:19<00:00,  1.99s/it]\n",
      "train loss: 2.30e-01 | test loss: 6.31e-01 | reg: 9.06e+01 : 100%|██| 10/10 [00:21<00:00,  2.10s/it]\n",
      "train loss: 2.27e-01 | test loss: 5.18e-01 | reg: 9.76e+01 : 100%|██| 10/10 [00:19<00:00,  1.99s/it]\n",
      "train loss: 2.18e-01 | test loss: 5.72e-01 | reg: 8.03e+01 : 100%|██| 10/10 [00:21<00:00,  2.19s/it]\n",
      "train loss: 2.31e-01 | test loss: 4.66e-01 | reg: 9.52e+01 : 100%|██| 10/10 [00:21<00:00,  2.11s/it]\n",
      "train loss: 2.10e-01 | test loss: 5.30e-01 | reg: 7.59e+01 : 100%|██| 10/10 [00:23<00:00,  2.35s/it]\n",
      "train loss: 2.28e-01 | test loss: 5.68e-01 | reg: 7.68e+01 : 100%|██| 10/10 [00:24<00:00,  2.42s/it]\n",
      "train loss: 2.80e-01 | test loss: 4.42e-01 | reg: 6.80e+02 : 100%|██| 10/10 [00:19<00:00,  1.97s/it]\n",
      "train loss: 2.84e-01 | test loss: 4.32e-01 | reg: 7.11e+02 : 100%|██| 10/10 [00:19<00:00,  1.99s/it]\n",
      "train loss: 2.30e-01 | test loss: 6.31e-01 | reg: 6.36e+02 : 100%|██| 10/10 [00:20<00:00,  2.09s/it]\n",
      "train loss: 2.27e-01 | test loss: 5.18e-01 | reg: 6.45e+02 : 100%|██| 10/10 [00:19<00:00,  1.98s/it]\n",
      "train loss: 2.18e-01 | test loss: 5.72e-01 | reg: 5.96e+02 : 100%|██| 10/10 [00:21<00:00,  2.19s/it]\n",
      "train loss: 2.31e-01 | test loss: 4.66e-01 | reg: 6.68e+02 : 100%|██| 10/10 [00:21<00:00,  2.11s/it]\n",
      "train loss: 2.10e-01 | test loss: 5.30e-01 | reg: 5.75e+02 : 100%|██| 10/10 [00:23<00:00,  2.37s/it]\n",
      "train loss: 2.28e-01 | test loss: 5.68e-01 | reg: 5.70e+02 : 100%|██| 10/10 [00:24<00:00,  2.42s/it]"
     ]
    },
    {
     "name": "stdout",
     "output_type": "stream",
     "text": [
      "Best parameters found:\n",
      "{'lamb': 0.1, 'lamb_entropy': 0.0, 'grid': 10, 'seed': 42}\n",
      "Best test accuracy: 0.7692307829856873\n"
     ]
    },
    {
     "name": "stderr",
     "output_type": "stream",
     "text": [
      "\n"
     ]
    }
   ],
   "source": [
    "import itertools\n",
    "\n",
    "# Define the ranges for each parameter\n",
    "lamb_values = [0.01, 0.1, 0.0] \n",
    "lamb_entropy_values = [0.0, 10.0, 100.0]  \n",
    "grid_values = [1, 5, 10, 20]  \n",
    "seed_values = [1, 42]  \n",
    "\n",
    "best_accuracy = 0\n",
    "best_params = {}\n",
    "\n",
    "# Perform grid search to find the best combination of parameters\n",
    "for lamb_val, lamb_entropy_val, grid_val, seed_val in itertools.product(lamb_values, lamb_entropy_values, grid_values, seed_values):\n",
    "    model = KAN(width=[166,1,1], grid=grid_val, k=3, seed=seed_val)\n",
    "    results = model.train(dataset, opt=\"LBFGS\", steps=10, metrics=(train_acc, test_acc), lamb=lamb_val, lamb_entropy=lamb_entropy_val)\n",
    "    \n",
    "    train_accuracy = results['train_acc'][-1]\n",
    "    test_accuracy = results['test_acc'][-1]\n",
    "    \n",
    "    if test_accuracy > best_accuracy:\n",
    "        best_accuracy = test_accuracy\n",
    "        best_params = {'lamb': lamb_val, 'lamb_entropy': lamb_entropy_val, 'grid': grid_val, 'seed': seed_val}\n",
    "\n",
    "print(\"Best parameters found:\")\n",
    "print(best_params)\n",
    "print(\"Best test accuracy:\", best_accuracy)\n"
   ]
  }
 ],
 "metadata": {
  "kernelspec": {
   "display_name": "drops",
   "language": "python",
   "name": "python3"
  },
  "language_info": {
   "codemirror_mode": {
    "name": "ipython",
    "version": 3
   },
   "file_extension": ".py",
   "mimetype": "text/x-python",
   "name": "python",
   "nbconvert_exporter": "python",
   "pygments_lexer": "ipython3",
   "version": "3.9.7"
  }
 },
 "nbformat": 4,
 "nbformat_minor": 2
}

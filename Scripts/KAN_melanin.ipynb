{
 "cells": [
  {
   "cell_type": "code",
   "execution_count": 3,
   "metadata": {},
   "outputs": [],
   "source": [
    "import matplotlib.pyplot as plt\n",
    "import torch\n",
    "import numpy as np\n",
    "import pandas as pd\n",
    "import pickle\n",
    "from sklearn.model_selection import train_test_split\n",
    "import pickle\n",
    "from sklearn.metrics import f1_score, accuracy_score\n",
    "from kan.KAN import KAN\n",
    "import itertools\n",
    "from rdkit import Chem\n",
    "from rdkit.Chem import MACCSkeys"
   ]
  },
  {
   "cell_type": "markdown",
   "metadata": {},
   "source": [
    "### Preparing data"
   ]
  },
  {
   "cell_type": "code",
   "execution_count": 8,
   "metadata": {},
   "outputs": [],
   "source": [
    "df = pd.read_csv('MACCS_melanin_classes.csv')\n"
   ]
  },
  {
   "cell_type": "code",
   "execution_count": 9,
   "metadata": {},
   "outputs": [],
   "source": [
    "X = np.array(df.iloc[:, 0:166])\n",
    "y = np.array(df['Class'])"
   ]
  },
  {
   "cell_type": "code",
   "execution_count": 10,
   "metadata": {},
   "outputs": [],
   "source": [
    "Xtrain, Xtest, ytrain, ytest = train_test_split(X, y, test_size=0.2, random_state=10)"
   ]
  },
  {
   "cell_type": "markdown",
   "metadata": {},
   "source": [
    "### Train KAN"
   ]
  },
  {
   "cell_type": "code",
   "execution_count": 12,
   "metadata": {},
   "outputs": [],
   "source": [
    "dataset = {} \n",
    "dataset['train_input'] = torch.tensor(Xtrain, dtype=torch.int64) \n",
    "dataset['train_label'] = torch.tensor(ytrain.reshape(-1, 1), dtype=torch.int64) \n",
    "dataset['test_input'] = torch.tensor(Xtest, dtype=torch.int64) \n",
    "dataset['test_label'] = torch.tensor(ytest.reshape(-1, 1), dtype=torch.int64) \n",
    " \n",
    "X = dataset['train_input'] \n",
    "y = dataset['train_label']"
   ]
  },
  {
   "cell_type": "code",
   "execution_count": 13,
   "metadata": {},
   "outputs": [
    {
     "name": "stderr",
     "output_type": "stream",
     "text": [
      "description:   0%|                                                           | 0/10 [00:00<?, ?it/s]"
     ]
    },
    {
     "name": "stderr",
     "output_type": "stream",
     "text": [
      "train loss: 3.90e-01 | test loss: 4.25e-01 | reg: 2.60e+00 : 100%|██| 10/10 [00:21<00:00,  2.18s/it]\n"
     ]
    },
    {
     "data": {
      "text/plain": [
       "(0.7820512652397156, 0.7628205418586731)"
      ]
     },
     "execution_count": 13,
     "metadata": {},
     "output_type": "execute_result"
    }
   ],
   "source": [
    "model = KAN(width=[166,1,1], grid=10, k=5, seed=2024)\n",
    "\n",
    "def train_acc(): \n",
    "    return torch.mean((torch.round(model(dataset['train_input'])[:,0]) == dataset['train_label'][:,0]).float()) \n",
    " \n",
    "def test_acc(): \n",
    "    return torch.mean((torch.round(model(dataset['test_input'])[:,0]) == dataset['test_label'][:,0]).float()) \n",
    " \n",
    "results = model.train(dataset, opt=\"LBFGS\", steps=10, metrics=(train_acc, test_acc), lamb = 0.1, lamb_entropy = 0.0) \n",
    "results['train_acc'][-1], results['test_acc'][-1]"
   ]
  },
  {
   "cell_type": "markdown",
   "metadata": {},
   "source": [
    "## Hyperparameter optimization"
   ]
  },
  {
   "cell_type": "code",
   "execution_count": 40,
   "metadata": {},
   "outputs": [
    {
     "name": "stderr",
     "output_type": "stream",
     "text": [
      "train loss: 2.82e-01 | test loss: 4.36e-01 | reg: 6.44e+01 : 100%|██| 10/10 [00:13<00:00,  1.39s/it]\n",
      "train loss: 2.89e-01 | test loss: 4.26e-01 | reg: 7.76e+01 : 100%|██| 10/10 [00:16<00:00,  1.68s/it]\n",
      "train loss: 2.92e-01 | test loss: 4.08e-01 | reg: 9.76e+01 : 100%|██| 10/10 [00:21<00:00,  2.15s/it]\n",
      "train loss: 2.71e-01 | test loss: 4.38e-01 | reg: 4.80e+01 : 100%|██| 10/10 [00:15<00:00,  1.59s/it]\n",
      "train loss: 2.90e-01 | test loss: 4.47e-01 | reg: 4.31e+01 : 100%|██| 10/10 [00:20<00:00,  2.06s/it]\n",
      "train loss: 2.57e-01 | test loss: 4.88e-01 | reg: 6.09e+01 : 100%|██| 10/10 [00:26<00:00,  2.66s/it]\n",
      "train loss: 2.75e-01 | test loss: 5.15e-01 | reg: 2.80e+01 : 100%|██| 10/10 [00:19<00:00,  1.93s/it]\n",
      "train loss: 2.23e-01 | test loss: 5.25e+00 | reg: 2.78e+01 : 100%|██| 10/10 [00:24<00:00,  2.46s/it]\n",
      "train loss: 2.12e-01 | test loss: 4.99e-01 | reg: 3.51e+01 : 100%|██| 10/10 [00:30<00:00,  3.09s/it]"
     ]
    },
    {
     "name": "stdout",
     "output_type": "stream",
     "text": [
      "Best parameters found:\n",
      "{'grid': 1, 'k': 7}\n",
      "Best test accuracy: 0.7564102411270142\n"
     ]
    },
    {
     "name": "stderr",
     "output_type": "stream",
     "text": [
      "\n"
     ]
    }
   ],
   "source": [
    "grid_values = [1, 5, 10]  \n",
    "k_values = [3, 5, 7] \n",
    "\n",
    "best_accuracy = 0\n",
    "best_params = {}\n",
    "\n",
    "for grid_val, k_val in itertools.product(grid_values, k_values):\n",
    "    model = KAN(width=[166,1,1], grid=grid_val, k=k_val, seed=2024)\n",
    "    results = model.train(dataset, opt=\"LBFGS\", steps=10, metrics=(train_acc, test_acc))\n",
    "    \n",
    "    train_accuracy = results['train_acc'][-1]\n",
    "    test_accuracy = results['test_acc'][-1]\n",
    "    \n",
    "    if test_accuracy > best_accuracy:\n",
    "        best_accuracy = test_accuracy\n",
    "        best_params = {'grid': grid_val, 'k': k_val}\n",
    "\n",
    "print(\"Best parameters found:\")\n",
    "print(best_params)\n",
    "print(\"Best test accuracy:\", best_accuracy)"
   ]
  },
  {
   "cell_type": "code",
   "execution_count": 14,
   "metadata": {},
   "outputs": [],
   "source": [
    "test_preds = model(dataset['test_input']).detach().numpy()"
   ]
  },
  {
   "cell_type": "code",
   "execution_count": 15,
   "metadata": {},
   "outputs": [
    {
     "data": {
      "text/plain": [
       "array([[0.95113873],\n",
       "       [0.5657139 ],\n",
       "       [0.73611265],\n",
       "       [0.8275491 ],\n",
       "       [0.62381995],\n",
       "       [0.7098993 ],\n",
       "       [0.6238558 ],\n",
       "       [0.7183525 ],\n",
       "       [0.73597646],\n",
       "       [0.9105602 ],\n",
       "       [0.8609364 ],\n",
       "       [1.0432518 ],\n",
       "       [0.79464006],\n",
       "       [0.7719816 ],\n",
       "       [0.8002501 ],\n",
       "       [0.8024981 ],\n",
       "       [0.7598028 ],\n",
       "       [0.8387475 ],\n",
       "       [0.89063656],\n",
       "       [1.0432518 ],\n",
       "       [0.61337054],\n",
       "       [0.9940603 ],\n",
       "       [0.8984593 ],\n",
       "       [0.78452015],\n",
       "       [0.7372575 ],\n",
       "       [0.7932718 ],\n",
       "       [0.99514437],\n",
       "       [0.7864554 ],\n",
       "       [0.82995546],\n",
       "       [0.7357609 ],\n",
       "       [0.7572347 ],\n",
       "       [0.87642276],\n",
       "       [0.7813022 ],\n",
       "       [0.65637255],\n",
       "       [0.8895056 ],\n",
       "       [0.6791941 ],\n",
       "       [0.8387133 ],\n",
       "       [0.75524503],\n",
       "       [0.7044053 ],\n",
       "       [0.93268216],\n",
       "       [0.8594047 ],\n",
       "       [0.8971331 ],\n",
       "       [0.7597382 ],\n",
       "       [0.70162654],\n",
       "       [0.8816009 ],\n",
       "       [0.8925695 ],\n",
       "       [0.88326514],\n",
       "       [0.796008  ],\n",
       "       [0.8276893 ],\n",
       "       [0.66923094],\n",
       "       [0.865456  ],\n",
       "       [0.8037921 ],\n",
       "       [0.8463713 ],\n",
       "       [0.842658  ],\n",
       "       [0.7879019 ],\n",
       "       [0.8433881 ],\n",
       "       [0.73324466],\n",
       "       [0.9398489 ],\n",
       "       [0.8724315 ],\n",
       "       [0.7730424 ],\n",
       "       [0.8484534 ],\n",
       "       [0.8775251 ],\n",
       "       [0.8377234 ],\n",
       "       [0.80121756],\n",
       "       [0.822644  ],\n",
       "       [0.7635892 ],\n",
       "       [0.7906928 ],\n",
       "       [0.73450875],\n",
       "       [0.81887054],\n",
       "       [0.66559494],\n",
       "       [0.7325097 ],\n",
       "       [0.7849673 ],\n",
       "       [0.8217255 ],\n",
       "       [0.902869  ],\n",
       "       [0.79655933],\n",
       "       [0.9757005 ],\n",
       "       [0.39615178],\n",
       "       [0.81079066],\n",
       "       [0.78093237],\n",
       "       [0.73037267],\n",
       "       [0.676598  ],\n",
       "       [0.79052365],\n",
       "       [0.8533206 ],\n",
       "       [0.6380854 ],\n",
       "       [0.7939513 ],\n",
       "       [0.590148  ],\n",
       "       [0.76824474],\n",
       "       [0.8636923 ],\n",
       "       [0.90514255],\n",
       "       [0.876562  ],\n",
       "       [0.84594333],\n",
       "       [0.8280389 ],\n",
       "       [0.93990654],\n",
       "       [0.7412325 ],\n",
       "       [0.73533916],\n",
       "       [0.81259215],\n",
       "       [0.8598987 ],\n",
       "       [0.80697584],\n",
       "       [0.73974395],\n",
       "       [0.80891955],\n",
       "       [0.73970693],\n",
       "       [0.90179443],\n",
       "       [0.87957335],\n",
       "       [0.8569491 ],\n",
       "       [0.7521927 ],\n",
       "       [0.8975244 ],\n",
       "       [0.8318448 ],\n",
       "       [0.8582485 ],\n",
       "       [0.84706044],\n",
       "       [0.93615246],\n",
       "       [0.92494464],\n",
       "       [0.84633327],\n",
       "       [0.8089597 ],\n",
       "       [0.6966621 ],\n",
       "       [0.8407357 ],\n",
       "       [0.84872407],\n",
       "       [0.90981245],\n",
       "       [0.89557475],\n",
       "       [0.777666  ],\n",
       "       [0.7398048 ],\n",
       "       [1.0026149 ],\n",
       "       [0.71496737],\n",
       "       [0.7180909 ],\n",
       "       [0.7547617 ],\n",
       "       [0.8352872 ],\n",
       "       [0.9531397 ],\n",
       "       [0.77365613],\n",
       "       [0.88735294],\n",
       "       [0.77486014],\n",
       "       [0.88839173],\n",
       "       [0.77892613],\n",
       "       [0.833154  ],\n",
       "       [0.92374384],\n",
       "       [0.8178082 ],\n",
       "       [0.6545819 ],\n",
       "       [0.7496799 ],\n",
       "       [0.789062  ],\n",
       "       [0.80778   ],\n",
       "       [0.80464315],\n",
       "       [0.74720275],\n",
       "       [0.84213924],\n",
       "       [0.60010964],\n",
       "       [0.68492436],\n",
       "       [0.84829634],\n",
       "       [0.8808203 ],\n",
       "       [0.88841784],\n",
       "       [0.50360554],\n",
       "       [0.815876  ],\n",
       "       [0.7863208 ],\n",
       "       [0.716754  ],\n",
       "       [0.7302574 ],\n",
       "       [0.85459447],\n",
       "       [0.6978444 ],\n",
       "       [0.89219314],\n",
       "       [0.7997185 ],\n",
       "       [0.7766222 ]], dtype=float32)"
      ]
     },
     "execution_count": 15,
     "metadata": {},
     "output_type": "execute_result"
    }
   ],
   "source": [
    "test_preds"
   ]
  },
  {
   "cell_type": "markdown",
   "metadata": {},
   "source": [
    "## Case study\n",
    "Convering SMILES to RDKit descriptors"
   ]
  },
  {
   "cell_type": "code",
   "execution_count": 57,
   "metadata": {},
   "outputs": [],
   "source": [
    "smiles = pd.read_csv('smiles_noML_1000.csv')['Smiles'].to_list()"
   ]
  },
  {
   "cell_type": "code",
   "execution_count": 58,
   "metadata": {},
   "outputs": [
    {
     "data": {
      "text/html": [
       "<div>\n",
       "<style scoped>\n",
       "    .dataframe tbody tr th:only-of-type {\n",
       "        vertical-align: middle;\n",
       "    }\n",
       "\n",
       "    .dataframe tbody tr th {\n",
       "        vertical-align: top;\n",
       "    }\n",
       "\n",
       "    .dataframe thead th {\n",
       "        text-align: right;\n",
       "    }\n",
       "</style>\n",
       "<table border=\"1\" class=\"dataframe\">\n",
       "  <thead>\n",
       "    <tr style=\"text-align: right;\">\n",
       "      <th></th>\n",
       "      <th>smiles</th>\n",
       "      <th>bit0</th>\n",
       "      <th>bit1</th>\n",
       "      <th>bit2</th>\n",
       "      <th>bit3</th>\n",
       "      <th>bit4</th>\n",
       "      <th>bit5</th>\n",
       "      <th>bit6</th>\n",
       "      <th>bit7</th>\n",
       "      <th>bit8</th>\n",
       "      <th>...</th>\n",
       "      <th>bit157</th>\n",
       "      <th>bit158</th>\n",
       "      <th>bit159</th>\n",
       "      <th>bit160</th>\n",
       "      <th>bit161</th>\n",
       "      <th>bit162</th>\n",
       "      <th>bit163</th>\n",
       "      <th>bit164</th>\n",
       "      <th>bit165</th>\n",
       "      <th>bit166</th>\n",
       "    </tr>\n",
       "  </thead>\n",
       "  <tbody>\n",
       "    <tr>\n",
       "      <th>0</th>\n",
       "      <td>O=CC(=O)N(c1ccc(CC(=O)O)cc1)C(O)F</td>\n",
       "      <td>0</td>\n",
       "      <td>0</td>\n",
       "      <td>0</td>\n",
       "      <td>0</td>\n",
       "      <td>0</td>\n",
       "      <td>0</td>\n",
       "      <td>0</td>\n",
       "      <td>0</td>\n",
       "      <td>0</td>\n",
       "      <td>...</td>\n",
       "      <td>1</td>\n",
       "      <td>1</td>\n",
       "      <td>1</td>\n",
       "      <td>0</td>\n",
       "      <td>1</td>\n",
       "      <td>1</td>\n",
       "      <td>1</td>\n",
       "      <td>1</td>\n",
       "      <td>1</td>\n",
       "      <td>0</td>\n",
       "    </tr>\n",
       "    <tr>\n",
       "      <th>1</th>\n",
       "      <td>COCCc1cc(Cl)c(CC(=O)O)c(NN)c1C1CC1</td>\n",
       "      <td>0</td>\n",
       "      <td>0</td>\n",
       "      <td>0</td>\n",
       "      <td>0</td>\n",
       "      <td>0</td>\n",
       "      <td>0</td>\n",
       "      <td>0</td>\n",
       "      <td>0</td>\n",
       "      <td>0</td>\n",
       "      <td>...</td>\n",
       "      <td>1</td>\n",
       "      <td>1</td>\n",
       "      <td>1</td>\n",
       "      <td>1</td>\n",
       "      <td>1</td>\n",
       "      <td>1</td>\n",
       "      <td>1</td>\n",
       "      <td>1</td>\n",
       "      <td>1</td>\n",
       "      <td>0</td>\n",
       "    </tr>\n",
       "    <tr>\n",
       "      <th>2</th>\n",
       "      <td>C#CC(F)(C#N)Cc1cccc(C(NN)C(=O)O)c1</td>\n",
       "      <td>0</td>\n",
       "      <td>0</td>\n",
       "      <td>0</td>\n",
       "      <td>0</td>\n",
       "      <td>0</td>\n",
       "      <td>0</td>\n",
       "      <td>0</td>\n",
       "      <td>0</td>\n",
       "      <td>0</td>\n",
       "      <td>...</td>\n",
       "      <td>1</td>\n",
       "      <td>1</td>\n",
       "      <td>1</td>\n",
       "      <td>0</td>\n",
       "      <td>1</td>\n",
       "      <td>1</td>\n",
       "      <td>1</td>\n",
       "      <td>1</td>\n",
       "      <td>1</td>\n",
       "      <td>0</td>\n",
       "    </tr>\n",
       "    <tr>\n",
       "      <th>3</th>\n",
       "      <td>CC(C)ONC(=S)c1ccc(C(=O)[O-])cc1C(C#N)C(=O)O</td>\n",
       "      <td>0</td>\n",
       "      <td>0</td>\n",
       "      <td>0</td>\n",
       "      <td>0</td>\n",
       "      <td>0</td>\n",
       "      <td>0</td>\n",
       "      <td>0</td>\n",
       "      <td>0</td>\n",
       "      <td>0</td>\n",
       "      <td>...</td>\n",
       "      <td>1</td>\n",
       "      <td>1</td>\n",
       "      <td>1</td>\n",
       "      <td>1</td>\n",
       "      <td>1</td>\n",
       "      <td>1</td>\n",
       "      <td>1</td>\n",
       "      <td>1</td>\n",
       "      <td>1</td>\n",
       "      <td>0</td>\n",
       "    </tr>\n",
       "    <tr>\n",
       "      <th>4</th>\n",
       "      <td>C=CCOc1cc(O)cc(C(C(=O)O)c2ccoc2)c1C=C</td>\n",
       "      <td>0</td>\n",
       "      <td>0</td>\n",
       "      <td>0</td>\n",
       "      <td>0</td>\n",
       "      <td>0</td>\n",
       "      <td>0</td>\n",
       "      <td>0</td>\n",
       "      <td>0</td>\n",
       "      <td>0</td>\n",
       "      <td>...</td>\n",
       "      <td>1</td>\n",
       "      <td>0</td>\n",
       "      <td>1</td>\n",
       "      <td>0</td>\n",
       "      <td>0</td>\n",
       "      <td>1</td>\n",
       "      <td>1</td>\n",
       "      <td>1</td>\n",
       "      <td>1</td>\n",
       "      <td>0</td>\n",
       "    </tr>\n",
       "    <tr>\n",
       "      <th>...</th>\n",
       "      <td>...</td>\n",
       "      <td>...</td>\n",
       "      <td>...</td>\n",
       "      <td>...</td>\n",
       "      <td>...</td>\n",
       "      <td>...</td>\n",
       "      <td>...</td>\n",
       "      <td>...</td>\n",
       "      <td>...</td>\n",
       "      <td>...</td>\n",
       "      <td>...</td>\n",
       "      <td>...</td>\n",
       "      <td>...</td>\n",
       "      <td>...</td>\n",
       "      <td>...</td>\n",
       "      <td>...</td>\n",
       "      <td>...</td>\n",
       "      <td>...</td>\n",
       "      <td>...</td>\n",
       "      <td>...</td>\n",
       "      <td>...</td>\n",
       "    </tr>\n",
       "    <tr>\n",
       "      <th>2577</th>\n",
       "      <td>O=C(O)C(Cc1ccccc1)c1ccc(C(F)(F)F)c(C(F)(F)F)c1</td>\n",
       "      <td>0</td>\n",
       "      <td>0</td>\n",
       "      <td>0</td>\n",
       "      <td>0</td>\n",
       "      <td>0</td>\n",
       "      <td>0</td>\n",
       "      <td>0</td>\n",
       "      <td>0</td>\n",
       "      <td>0</td>\n",
       "      <td>...</td>\n",
       "      <td>1</td>\n",
       "      <td>0</td>\n",
       "      <td>1</td>\n",
       "      <td>0</td>\n",
       "      <td>0</td>\n",
       "      <td>1</td>\n",
       "      <td>1</td>\n",
       "      <td>1</td>\n",
       "      <td>1</td>\n",
       "      <td>0</td>\n",
       "    </tr>\n",
       "    <tr>\n",
       "      <th>2578</th>\n",
       "      <td>O=C(O)C(Cc1ccccc1)c1cccc(C(F)(F)F)c1C(F)(F)F</td>\n",
       "      <td>0</td>\n",
       "      <td>0</td>\n",
       "      <td>0</td>\n",
       "      <td>0</td>\n",
       "      <td>0</td>\n",
       "      <td>0</td>\n",
       "      <td>0</td>\n",
       "      <td>0</td>\n",
       "      <td>0</td>\n",
       "      <td>...</td>\n",
       "      <td>1</td>\n",
       "      <td>0</td>\n",
       "      <td>1</td>\n",
       "      <td>0</td>\n",
       "      <td>0</td>\n",
       "      <td>1</td>\n",
       "      <td>1</td>\n",
       "      <td>1</td>\n",
       "      <td>1</td>\n",
       "      <td>0</td>\n",
       "    </tr>\n",
       "    <tr>\n",
       "      <th>2579</th>\n",
       "      <td>O=C(O)C(c1c(-c2ccco2)ccc(C(F)(F)F)c1C(F)(F)F)C...</td>\n",
       "      <td>0</td>\n",
       "      <td>0</td>\n",
       "      <td>0</td>\n",
       "      <td>0</td>\n",
       "      <td>0</td>\n",
       "      <td>0</td>\n",
       "      <td>0</td>\n",
       "      <td>0</td>\n",
       "      <td>0</td>\n",
       "      <td>...</td>\n",
       "      <td>1</td>\n",
       "      <td>0</td>\n",
       "      <td>1</td>\n",
       "      <td>0</td>\n",
       "      <td>0</td>\n",
       "      <td>1</td>\n",
       "      <td>1</td>\n",
       "      <td>1</td>\n",
       "      <td>1</td>\n",
       "      <td>0</td>\n",
       "    </tr>\n",
       "    <tr>\n",
       "      <th>2580</th>\n",
       "      <td>O=C(O)Cc1cc(C(F)(F)F)ccc1C(F)(Cc1ccccc1)C(F)(F)F</td>\n",
       "      <td>0</td>\n",
       "      <td>0</td>\n",
       "      <td>0</td>\n",
       "      <td>0</td>\n",
       "      <td>0</td>\n",
       "      <td>0</td>\n",
       "      <td>0</td>\n",
       "      <td>0</td>\n",
       "      <td>0</td>\n",
       "      <td>...</td>\n",
       "      <td>1</td>\n",
       "      <td>0</td>\n",
       "      <td>1</td>\n",
       "      <td>0</td>\n",
       "      <td>0</td>\n",
       "      <td>1</td>\n",
       "      <td>1</td>\n",
       "      <td>1</td>\n",
       "      <td>1</td>\n",
       "      <td>0</td>\n",
       "    </tr>\n",
       "    <tr>\n",
       "      <th>2581</th>\n",
       "      <td>CC(F)(c1ccccc1)c1cc(CC(=O)O)c(C(F)(F)F)c(C(F)(...</td>\n",
       "      <td>0</td>\n",
       "      <td>0</td>\n",
       "      <td>0</td>\n",
       "      <td>0</td>\n",
       "      <td>0</td>\n",
       "      <td>0</td>\n",
       "      <td>0</td>\n",
       "      <td>0</td>\n",
       "      <td>0</td>\n",
       "      <td>...</td>\n",
       "      <td>1</td>\n",
       "      <td>0</td>\n",
       "      <td>1</td>\n",
       "      <td>1</td>\n",
       "      <td>0</td>\n",
       "      <td>1</td>\n",
       "      <td>1</td>\n",
       "      <td>1</td>\n",
       "      <td>1</td>\n",
       "      <td>0</td>\n",
       "    </tr>\n",
       "  </tbody>\n",
       "</table>\n",
       "<p>2582 rows × 168 columns</p>\n",
       "</div>"
      ],
      "text/plain": [
       "                                                 smiles bit0 bit1 bit2 bit3  \\\n",
       "0                     O=CC(=O)N(c1ccc(CC(=O)O)cc1)C(O)F    0    0    0    0   \n",
       "1                    COCCc1cc(Cl)c(CC(=O)O)c(NN)c1C1CC1    0    0    0    0   \n",
       "2                    C#CC(F)(C#N)Cc1cccc(C(NN)C(=O)O)c1    0    0    0    0   \n",
       "3           CC(C)ONC(=S)c1ccc(C(=O)[O-])cc1C(C#N)C(=O)O    0    0    0    0   \n",
       "4                 C=CCOc1cc(O)cc(C(C(=O)O)c2ccoc2)c1C=C    0    0    0    0   \n",
       "...                                                 ...  ...  ...  ...  ...   \n",
       "2577     O=C(O)C(Cc1ccccc1)c1ccc(C(F)(F)F)c(C(F)(F)F)c1    0    0    0    0   \n",
       "2578       O=C(O)C(Cc1ccccc1)c1cccc(C(F)(F)F)c1C(F)(F)F    0    0    0    0   \n",
       "2579  O=C(O)C(c1c(-c2ccco2)ccc(C(F)(F)F)c1C(F)(F)F)C...    0    0    0    0   \n",
       "2580   O=C(O)Cc1cc(C(F)(F)F)ccc1C(F)(Cc1ccccc1)C(F)(F)F    0    0    0    0   \n",
       "2581  CC(F)(c1ccccc1)c1cc(CC(=O)O)c(C(F)(F)F)c(C(F)(...    0    0    0    0   \n",
       "\n",
       "     bit4 bit5 bit6 bit7 bit8  ... bit157 bit158 bit159 bit160 bit161 bit162  \\\n",
       "0       0    0    0    0    0  ...      1      1      1      0      1      1   \n",
       "1       0    0    0    0    0  ...      1      1      1      1      1      1   \n",
       "2       0    0    0    0    0  ...      1      1      1      0      1      1   \n",
       "3       0    0    0    0    0  ...      1      1      1      1      1      1   \n",
       "4       0    0    0    0    0  ...      1      0      1      0      0      1   \n",
       "...   ...  ...  ...  ...  ...  ...    ...    ...    ...    ...    ...    ...   \n",
       "2577    0    0    0    0    0  ...      1      0      1      0      0      1   \n",
       "2578    0    0    0    0    0  ...      1      0      1      0      0      1   \n",
       "2579    0    0    0    0    0  ...      1      0      1      0      0      1   \n",
       "2580    0    0    0    0    0  ...      1      0      1      0      0      1   \n",
       "2581    0    0    0    0    0  ...      1      0      1      1      0      1   \n",
       "\n",
       "     bit163 bit164 bit165 bit166  \n",
       "0         1      1      1      0  \n",
       "1         1      1      1      0  \n",
       "2         1      1      1      0  \n",
       "3         1      1      1      0  \n",
       "4         1      1      1      0  \n",
       "...     ...    ...    ...    ...  \n",
       "2577      1      1      1      0  \n",
       "2578      1      1      1      0  \n",
       "2579      1      1      1      0  \n",
       "2580      1      1      1      0  \n",
       "2581      1      1      1      0  \n",
       "\n",
       "[2582 rows x 168 columns]"
      ]
     },
     "execution_count": 58,
     "metadata": {},
     "output_type": "execute_result"
    }
   ],
   "source": [
    "mols = [Chem.MolFromSmiles(i) for i in smiles]\n",
    "MACCS_list = []\n",
    "header = ['bit' + str(i) for i in range(167)]\n",
    "for i in range(len(mols)):\n",
    "    ds = list(MACCSkeys.GenMACCSKeys(mols[i]).ToBitString())\n",
    "    MACCS_list.append(ds)\n",
    "df2 = pd.DataFrame(MACCS_list,columns=header)\n",
    "df2.insert(loc=0, column='smiles', value=smiles)\n",
    "df2"
   ]
  },
  {
   "cell_type": "code",
   "execution_count": 59,
   "metadata": {},
   "outputs": [],
   "source": [
    "data = df2.iloc[:, 1:167]\n",
    "data = np.array(data).astype(int)"
   ]
  },
  {
   "cell_type": "code",
   "execution_count": 60,
   "metadata": {},
   "outputs": [],
   "source": [
    "dataset = {} \n",
    "dataset['input'] = torch.tensor(data, dtype=torch.float32) "
   ]
  },
  {
   "cell_type": "markdown",
   "metadata": {},
   "source": [
    "### Calculate probability of melanin binding for all generated molecules"
   ]
  },
  {
   "cell_type": "code",
   "execution_count": 61,
   "metadata": {},
   "outputs": [],
   "source": [
    "predictions = model(dataset['input']).detach().numpy()"
   ]
  },
  {
   "cell_type": "code",
   "execution_count": 49,
   "metadata": {},
   "outputs": [
    {
     "data": {
      "text/plain": [
       "array([[0.8397027 ],\n",
       "       [0.5808775 ],\n",
       "       [0.4220845 ],\n",
       "       ...,\n",
       "       [0.69458294],\n",
       "       [0.63362074],\n",
       "       [0.588869  ]], dtype=float32)"
      ]
     },
     "execution_count": 49,
     "metadata": {},
     "output_type": "execute_result"
    }
   ],
   "source": [
    "predictions "
   ]
  },
  {
   "cell_type": "code",
   "execution_count": 62,
   "metadata": {},
   "outputs": [
    {
     "data": {
      "text/plain": [
       "0.74928963"
      ]
     },
     "execution_count": 62,
     "metadata": {},
     "output_type": "execute_result"
    }
   ],
   "source": [
    "mean_pred = np.mean(predictions)\n",
    "mean_pred"
   ]
  },
  {
   "cell_type": "markdown",
   "metadata": {},
   "source": [
    "### Calculating average probability of melanin binding for molecules generated by FREED++"
   ]
  },
  {
   "cell_type": "code",
   "execution_count": 63,
   "metadata": {},
   "outputs": [],
   "source": [
    "mel = [0.7648465, 0.75293547, 0.72139764, 0.75496554, 0.74928963]"
   ]
  },
  {
   "cell_type": "code",
   "execution_count": 64,
   "metadata": {},
   "outputs": [
    {
     "data": {
      "text/plain": [
       "0.748686956"
      ]
     },
     "execution_count": 64,
     "metadata": {},
     "output_type": "execute_result"
    }
   ],
   "source": [
    "mean_mel = np.mean(mel)\n",
    "mean_mel"
   ]
  },
  {
   "cell_type": "code",
   "execution_count": 65,
   "metadata": {},
   "outputs": [
    {
     "data": {
      "text/plain": [
       "0.014585412810334325"
      ]
     },
     "execution_count": 65,
     "metadata": {},
     "output_type": "execute_result"
    }
   ],
   "source": [
    "std = np.std(mel)\n",
    "std"
   ]
  },
  {
   "cell_type": "markdown",
   "metadata": {},
   "source": [
    "### Save model"
   ]
  },
  {
   "cell_type": "code",
   "execution_count": 46,
   "metadata": {},
   "outputs": [],
   "source": [
    "torch.save(model.state_dict(), 'KAN_melanin.pth')"
   ]
  }
 ],
 "metadata": {
  "kernelspec": {
   "display_name": "drops",
   "language": "python",
   "name": "python3"
  },
  "language_info": {
   "codemirror_mode": {
    "name": "ipython",
    "version": 3
   },
   "file_extension": ".py",
   "mimetype": "text/x-python",
   "name": "python",
   "nbconvert_exporter": "python",
   "pygments_lexer": "ipython3",
   "version": "3.9.7"
  }
 },
 "nbformat": 4,
 "nbformat_minor": 2
}

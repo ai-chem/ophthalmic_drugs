{
 "cells": [
  {
   "cell_type": "code",
   "execution_count": 1,
   "metadata": {},
   "outputs": [],
   "source": [
    "import matplotlib.pyplot as plt\n",
    "import torch\n",
    "import numpy as np\n",
    "import pandas as pd\n",
    "from rdkit.Chem import MACCSkeys\n",
    "\n",
    "from sklearn.model_selection import train_test_split\n",
    "\n",
    "import pickle\n",
    "from sklearn.metrics import f1_score\n",
    "\n",
    "import rdkit\n",
    "from rdkit import Chem\n",
    "from rdkit.Chem import rdMolDescriptors"
   ]
  },
  {
   "cell_type": "markdown",
   "metadata": {},
   "source": [
    "### Preparing data"
   ]
  },
  {
   "cell_type": "code",
   "execution_count": 2,
   "metadata": {},
   "outputs": [
    {
     "data": {
      "text/html": [
       "<div>\n",
       "<style scoped>\n",
       "    .dataframe tbody tr th:only-of-type {\n",
       "        vertical-align: middle;\n",
       "    }\n",
       "\n",
       "    .dataframe tbody tr th {\n",
       "        vertical-align: top;\n",
       "    }\n",
       "\n",
       "    .dataframe thead th {\n",
       "        text-align: right;\n",
       "    }\n",
       "</style>\n",
       "<table border=\"1\" class=\"dataframe\">\n",
       "  <thead>\n",
       "    <tr style=\"text-align: right;\">\n",
       "      <th></th>\n",
       "      <th>SMILES</th>\n",
       "      <th>Class</th>\n",
       "    </tr>\n",
       "  </thead>\n",
       "  <tbody>\n",
       "    <tr>\n",
       "      <th>0</th>\n",
       "      <td>CCN(CC)CCNC(=O)c1ccc(cc1)N.Cl</td>\n",
       "      <td>1</td>\n",
       "    </tr>\n",
       "    <tr>\n",
       "      <th>1</th>\n",
       "      <td>COCCNC(=O)CN1C2CCC1CC(C2)(c3cccnc3)O</td>\n",
       "      <td>1</td>\n",
       "    </tr>\n",
       "    <tr>\n",
       "      <th>2</th>\n",
       "      <td>CC1=NN=C(c2cc3c(cc2C1)OCO3)c4ccc(cc4)N</td>\n",
       "      <td>1</td>\n",
       "    </tr>\n",
       "  </tbody>\n",
       "</table>\n",
       "</div>"
      ],
      "text/plain": [
       "                                   SMILES  Class\n",
       "0           CCN(CC)CCNC(=O)c1ccc(cc1)N.Cl      1\n",
       "1    COCCNC(=O)CN1C2CCC1CC(C2)(c3cccnc3)O      1\n",
       "2  CC1=NN=C(c2cc3c(cc2C1)OCO3)c4ccc(cc4)N      1"
      ]
     },
     "execution_count": 2,
     "metadata": {},
     "output_type": "execute_result"
    }
   ],
   "source": [
    "df = pd.read_csv('melanin.csv')\n",
    "df.head(3)"
   ]
  },
  {
   "cell_type": "markdown",
   "metadata": {},
   "source": [
    "Converting SMILES to RDKit MACCS fp (167 features)"
   ]
  },
  {
   "cell_type": "code",
   "execution_count": 3,
   "metadata": {},
   "outputs": [],
   "source": [
    "smiles = df['SMILES'].to_list()"
   ]
  },
  {
   "cell_type": "code",
   "execution_count": 4,
   "metadata": {},
   "outputs": [
    {
     "data": {
      "text/html": [
       "<div>\n",
       "<style scoped>\n",
       "    .dataframe tbody tr th:only-of-type {\n",
       "        vertical-align: middle;\n",
       "    }\n",
       "\n",
       "    .dataframe tbody tr th {\n",
       "        vertical-align: top;\n",
       "    }\n",
       "\n",
       "    .dataframe thead th {\n",
       "        text-align: right;\n",
       "    }\n",
       "</style>\n",
       "<table border=\"1\" class=\"dataframe\">\n",
       "  <thead>\n",
       "    <tr style=\"text-align: right;\">\n",
       "      <th></th>\n",
       "      <th>smiles</th>\n",
       "      <th>bit0</th>\n",
       "      <th>bit1</th>\n",
       "      <th>bit2</th>\n",
       "      <th>bit3</th>\n",
       "      <th>bit4</th>\n",
       "      <th>bit5</th>\n",
       "      <th>bit6</th>\n",
       "      <th>bit7</th>\n",
       "      <th>bit8</th>\n",
       "      <th>...</th>\n",
       "      <th>bit157</th>\n",
       "      <th>bit158</th>\n",
       "      <th>bit159</th>\n",
       "      <th>bit160</th>\n",
       "      <th>bit161</th>\n",
       "      <th>bit162</th>\n",
       "      <th>bit163</th>\n",
       "      <th>bit164</th>\n",
       "      <th>bit165</th>\n",
       "      <th>bit166</th>\n",
       "    </tr>\n",
       "  </thead>\n",
       "  <tbody>\n",
       "    <tr>\n",
       "      <th>0</th>\n",
       "      <td>CCN(CC)CCNC(=O)c1ccc(cc1)N.Cl</td>\n",
       "      <td>0</td>\n",
       "      <td>0</td>\n",
       "      <td>0</td>\n",
       "      <td>0</td>\n",
       "      <td>0</td>\n",
       "      <td>0</td>\n",
       "      <td>0</td>\n",
       "      <td>0</td>\n",
       "      <td>0</td>\n",
       "      <td>...</td>\n",
       "      <td>0</td>\n",
       "      <td>1</td>\n",
       "      <td>0</td>\n",
       "      <td>1</td>\n",
       "      <td>1</td>\n",
       "      <td>1</td>\n",
       "      <td>1</td>\n",
       "      <td>1</td>\n",
       "      <td>1</td>\n",
       "      <td>1</td>\n",
       "    </tr>\n",
       "    <tr>\n",
       "      <th>1</th>\n",
       "      <td>COCCNC(=O)CN1C2CCC1CC(C2)(c3cccnc3)O</td>\n",
       "      <td>0</td>\n",
       "      <td>0</td>\n",
       "      <td>0</td>\n",
       "      <td>0</td>\n",
       "      <td>0</td>\n",
       "      <td>0</td>\n",
       "      <td>0</td>\n",
       "      <td>0</td>\n",
       "      <td>0</td>\n",
       "      <td>...</td>\n",
       "      <td>1</td>\n",
       "      <td>1</td>\n",
       "      <td>1</td>\n",
       "      <td>1</td>\n",
       "      <td>1</td>\n",
       "      <td>1</td>\n",
       "      <td>1</td>\n",
       "      <td>1</td>\n",
       "      <td>1</td>\n",
       "      <td>0</td>\n",
       "    </tr>\n",
       "    <tr>\n",
       "      <th>2</th>\n",
       "      <td>CC1=NN=C(c2cc3c(cc2C1)OCO3)c4ccc(cc4)N</td>\n",
       "      <td>0</td>\n",
       "      <td>0</td>\n",
       "      <td>0</td>\n",
       "      <td>0</td>\n",
       "      <td>0</td>\n",
       "      <td>0</td>\n",
       "      <td>0</td>\n",
       "      <td>0</td>\n",
       "      <td>0</td>\n",
       "      <td>...</td>\n",
       "      <td>1</td>\n",
       "      <td>1</td>\n",
       "      <td>1</td>\n",
       "      <td>1</td>\n",
       "      <td>1</td>\n",
       "      <td>1</td>\n",
       "      <td>1</td>\n",
       "      <td>1</td>\n",
       "      <td>1</td>\n",
       "      <td>0</td>\n",
       "    </tr>\n",
       "  </tbody>\n",
       "</table>\n",
       "<p>3 rows × 168 columns</p>\n",
       "</div>"
      ],
      "text/plain": [
       "                                   smiles bit0 bit1 bit2 bit3 bit4 bit5 bit6  \\\n",
       "0           CCN(CC)CCNC(=O)c1ccc(cc1)N.Cl    0    0    0    0    0    0    0   \n",
       "1    COCCNC(=O)CN1C2CCC1CC(C2)(c3cccnc3)O    0    0    0    0    0    0    0   \n",
       "2  CC1=NN=C(c2cc3c(cc2C1)OCO3)c4ccc(cc4)N    0    0    0    0    0    0    0   \n",
       "\n",
       "  bit7 bit8  ... bit157 bit158 bit159 bit160 bit161 bit162 bit163 bit164  \\\n",
       "0    0    0  ...      0      1      0      1      1      1      1      1   \n",
       "1    0    0  ...      1      1      1      1      1      1      1      1   \n",
       "2    0    0  ...      1      1      1      1      1      1      1      1   \n",
       "\n",
       "  bit165 bit166  \n",
       "0      1      1  \n",
       "1      1      0  \n",
       "2      1      0  \n",
       "\n",
       "[3 rows x 168 columns]"
      ]
     },
     "execution_count": 4,
     "metadata": {},
     "output_type": "execute_result"
    }
   ],
   "source": [
    "mols = [Chem.MolFromSmiles(i) for i in smiles]\n",
    "MACCS_list = []\n",
    "header = ['bit' + str(i) for i in range(167)]\n",
    "for i in range(len(mols)):\n",
    "    ds = list(MACCSkeys.GenMACCSKeys(mols[i]).ToBitString())\n",
    "    MACCS_list.append(ds)\n",
    "df2 = pd.DataFrame(MACCS_list,columns=header)\n",
    "df2.insert(loc=0, column='smiles', value=smiles)\n",
    "df2.head(3)"
   ]
  },
  {
   "cell_type": "code",
   "execution_count": 5,
   "metadata": {},
   "outputs": [],
   "source": [
    "X = np.array(df2.iloc[:, 1:-1].astype(int))\n",
    "y = np.array(df['Class'])"
   ]
  },
  {
   "cell_type": "code",
   "execution_count": 6,
   "metadata": {},
   "outputs": [],
   "source": [
    "Xtrain, Xtest, ytrain, ytest = train_test_split(X, y, test_size=0.2, random_state=10)"
   ]
  },
  {
   "cell_type": "markdown",
   "metadata": {},
   "source": [
    "### Train KAN"
   ]
  },
  {
   "cell_type": "code",
   "execution_count": 7,
   "metadata": {},
   "outputs": [],
   "source": [
    "from kan.KAN import KAN"
   ]
  },
  {
   "cell_type": "code",
   "execution_count": 8,
   "metadata": {},
   "outputs": [],
   "source": [
    "dataset = {} \n",
    "dataset['train_input'] = torch.tensor(Xtrain, dtype=torch.int64) \n",
    "dataset['train_label'] = torch.tensor(ytrain.reshape(-1, 1), dtype=torch.int64) \n",
    "dataset['test_input'] = torch.tensor(Xtest, dtype=torch.int64) \n",
    "dataset['test_label'] = torch.tensor(ytest.reshape(-1, 1), dtype=torch.int64) \n",
    " \n",
    "X = dataset['train_input'] \n",
    "y = dataset['train_label']\n"
   ]
  },
  {
   "cell_type": "code",
   "execution_count": 38,
   "metadata": {},
   "outputs": [
    {
     "name": "stderr",
     "output_type": "stream",
     "text": [
      "train loss: 3.93e-01 | test loss: 4.41e-01 | reg: 2.45e+00 : 100%|██| 10/10 [00:35<00:00,  3.54s/it]\n"
     ]
    },
    {
     "data": {
      "text/plain": [
       "(0.7948718070983887, 0.75)"
      ]
     },
     "execution_count": 38,
     "metadata": {},
     "output_type": "execute_result"
    }
   ],
   "source": [
    "model = KAN(width=[166,1], grid=30, k=5)\n",
    "\n",
    "def train_acc(): \n",
    "    return torch.mean((torch.round(model(dataset['train_input'])[:,0]) == dataset['train_label'][:,0]).float()) \n",
    " \n",
    "def test_acc(): \n",
    "    return torch.mean((torch.round(model(dataset['test_input'])[:,0]) == dataset['test_label'][:,0]).float()) \n",
    " \n",
    "results = model.train(dataset, opt=\"LBFGS\", steps=10, metrics=(train_acc, test_acc), lamb = 0.1, lamb_entropy = 0.0) \n",
    "results['train_acc'][-1], results['test_acc'][-1]"
   ]
  },
  {
   "cell_type": "markdown",
   "metadata": {},
   "source": [
    "## Hyperparameter optimization"
   ]
  },
  {
   "cell_type": "code",
   "execution_count": 15,
   "metadata": {},
   "outputs": [
    {
     "name": "stderr",
     "output_type": "stream",
     "text": [
      "train loss: 2.98e-01 | test loss: 4.12e-01 | reg: 1.48e+02 : 100%|██| 10/10 [00:15<00:00,  1.57s/it]\n",
      "train loss: 2.82e-01 | test loss: 4.72e-01 | reg: 8.83e+01 : 100%|██| 10/10 [00:17<00:00,  1.71s/it]\n",
      "train loss: 2.99e-01 | test loss: 4.17e-01 | reg: 1.31e+02 : 100%|██| 10/10 [00:21<00:00,  2.11s/it]\n",
      "train loss: 2.23e-01 | test loss: 5.50e-01 | reg: 4.57e+01 : 100%|██| 10/10 [00:16<00:00,  1.61s/it]\n",
      "train loss: 2.55e-01 | test loss: 6.11e-01 | reg: 4.10e+01 : 100%|██| 10/10 [00:19<00:00,  1.96s/it]\n",
      "train loss: 2.46e-01 | test loss: 5.19e-01 | reg: 8.56e+01 : 100%|██| 10/10 [00:24<00:00,  2.46s/it]\n",
      "train loss: 2.02e-01 | test loss: 5.23e-01 | reg: 3.59e+01 : 100%|██| 10/10 [00:17<00:00,  1.79s/it]\n",
      "train loss: 2.00e-01 | test loss: 5.10e-01 | reg: 4.16e+01 : 100%|██| 10/10 [00:23<00:00,  2.31s/it]\n",
      "train loss: 2.03e-01 | test loss: 5.30e-01 | reg: 3.63e+01 : 100%|██| 10/10 [00:29<00:00,  2.91s/it]\n",
      "train loss: 1.86e-01 | test loss: 5.08e-01 | reg: 2.86e+01 : 100%|██| 10/10 [00:23<00:00,  2.35s/it]\n",
      "train loss: 2.11e-01 | test loss: 4.82e-01 | reg: 3.37e+01 : 100%|██| 10/10 [00:29<00:00,  2.97s/it]\n",
      "train loss: 2.07e-01 | test loss: 4.89e-01 | reg: 3.01e+01 : 100%|██| 10/10 [00:41<00:00,  4.14s/it]\n",
      "train loss: 2.26e-01 | test loss: 4.50e-01 | reg: 3.53e+01 : 100%|██| 10/10 [00:29<00:00,  2.92s/it]\n",
      "train loss: 2.69e-01 | test loss: 9.19e-01 | reg: 3.24e+01 : 100%|██| 10/10 [00:36<00:00,  3.65s/it]\n",
      "train loss: 2.09e-01 | test loss: 4.79e-01 | reg: 3.74e+01 : 100%|██| 10/10 [00:44<00:00,  4.49s/it]"
     ]
    },
    {
     "name": "stdout",
     "output_type": "stream",
     "text": [
      "Best parameters found:\n",
      "{'grid': 30, 'k': 5}\n",
      "Best test accuracy: 0.7628205418586731\n"
     ]
    },
    {
     "name": "stderr",
     "output_type": "stream",
     "text": [
      "\n"
     ]
    }
   ],
   "source": [
    "import itertools\n",
    "\n",
    "# Define the ranges for each parameter\n",
    "grid_values = [1, 5, 10, 20, 30]  \n",
    "k_values = [3, 5, 7] \n",
    "\n",
    "best_accuracy = 0\n",
    "best_params = {}\n",
    "\n",
    "# Perform grid search to find the best combination of parameters\n",
    "for grid_val, k_val in itertools.product(grid_values, k_values):\n",
    "    model = KAN(width=[166,1,1], grid=grid_val, k=k_val)\n",
    "    results = model.train(dataset, opt=\"LBFGS\", steps=10, metrics=(train_acc, test_acc))\n",
    "    \n",
    "    train_accuracy = results['train_acc'][-1]\n",
    "    test_accuracy = results['test_acc'][-1]\n",
    "    \n",
    "    if test_accuracy > best_accuracy:\n",
    "        best_accuracy = test_accuracy\n",
    "        best_params = {'grid': grid_val, 'k': k_val}\n",
    "\n",
    "print(\"Best parameters found:\")\n",
    "print(best_params)\n",
    "print(\"Best test accuracy:\", best_accuracy)\n"
   ]
  },
  {
   "cell_type": "markdown",
   "metadata": {},
   "source": [
    "Calculating average values of accuracy on train and test sets (seed=1000, 2000, 2500, 3000, 3500)"
   ]
  },
  {
   "cell_type": "code",
   "execution_count": 29,
   "metadata": {},
   "outputs": [
    {
     "name": "stderr",
     "output_type": "stream",
     "text": [
      "train loss: 3.78e-01 | test loss: 4.10e-01 | reg: 1.33e+00 : 100%|██| 10/10 [00:39<00:00,  3.93s/it]\n"
     ]
    },
    {
     "data": {
      "text/plain": [
       "(0.7932692170143127, 0.7884615659713745)"
      ]
     },
     "execution_count": 29,
     "metadata": {},
     "output_type": "execute_result"
    }
   ],
   "source": [
    "model = KAN(width=[166,1], grid=30, k=5, seed=3500)\n",
    "\n",
    "def train_acc(): \n",
    "    return torch.mean((torch.round(model(dataset['train_input'])[:,0]) == dataset['train_label'][:,0]).float()) \n",
    " \n",
    "def test_acc(): \n",
    "    return torch.mean((torch.round(model(dataset['test_input'])[:,0]) == dataset['test_label'][:,0]).float()) \n",
    " \n",
    "results = model.train(dataset, opt=\"LBFGS\", steps=10, metrics=(train_acc, test_acc), lamb = 0.1, lamb_entropy = 0.0) \n",
    "results['train_acc'][-1], results['test_acc'][-1]"
   ]
  },
  {
   "cell_type": "code",
   "execution_count": 30,
   "metadata": {},
   "outputs": [],
   "source": [
    "train = [0.7836538553237915, 0.7868589758872986, 0.7756410241127014, 0.7916666865348816, 0.7932692170143127]\n",
    "test = [0.7179487347602844, 0.7435897588729858, 0.7756410241127014, 0.7692307829856873, 0.7884615659713745]"
   ]
  },
  {
   "cell_type": "code",
   "execution_count": 31,
   "metadata": {},
   "outputs": [
    {
     "data": {
      "text/plain": [
       "0.7862179517745972"
      ]
     },
     "execution_count": 31,
     "metadata": {},
     "output_type": "execute_result"
    }
   ],
   "source": [
    "train_mean = np.mean(train)\n",
    "train_mean"
   ]
  },
  {
   "cell_type": "code",
   "execution_count": 33,
   "metadata": {},
   "outputs": [
    {
     "data": {
      "text/plain": [
       "0.7589743733406067"
      ]
     },
     "execution_count": 33,
     "metadata": {},
     "output_type": "execute_result"
    }
   ],
   "source": [
    "test_mean = np.mean(test)\n",
    "test_mean"
   ]
  },
  {
   "cell_type": "code",
   "execution_count": 32,
   "metadata": {},
   "outputs": [
    {
     "data": {
      "text/plain": [
       "0.006297077945457357"
      ]
     },
     "execution_count": 32,
     "metadata": {},
     "output_type": "execute_result"
    }
   ],
   "source": [
    "std_train = np.std(train)\n",
    "std_train"
   ]
  },
  {
   "cell_type": "code",
   "execution_count": 34,
   "metadata": {},
   "outputs": [
    {
     "data": {
      "text/plain": [
       "0.025188311175032084"
      ]
     },
     "execution_count": 34,
     "metadata": {},
     "output_type": "execute_result"
    }
   ],
   "source": [
    "std_test = np.std(test)\n",
    "std_test"
   ]
  },
  {
   "cell_type": "markdown",
   "metadata": {},
   "source": [
    "### Save the model"
   ]
  },
  {
   "cell_type": "code",
   "execution_count": 69,
   "metadata": {},
   "outputs": [],
   "source": [
    "torch.save(model.state_dict(), 'KAN_melanin.pth')"
   ]
  }
 ],
 "metadata": {
  "kernelspec": {
   "display_name": "drops",
   "language": "python",
   "name": "python3"
  },
  "language_info": {
   "codemirror_mode": {
    "name": "ipython",
    "version": 3
   },
   "file_extension": ".py",
   "mimetype": "text/x-python",
   "name": "python",
   "nbconvert_exporter": "python",
   "pygments_lexer": "ipython3",
   "version": "3.9.7"
  }
 },
 "nbformat": 4,
 "nbformat_minor": 2
}
